{
 "cells": [
  {
   "cell_type": "markdown",
   "metadata": {},
   "source": [
    "<img style=\"float: left; padding-right: 0px; width: 145px\" src=\"https://upload.wikimedia.org/wikipedia/fr/thumb/e/e9/EPF_logo_2021.png/524px-EPF_logo_2021.png\"> \n",
    "<br><br>\n",
    "\n",
    "\n",
    "###  <div style=\"text-align: right\">  Data Engineering - P2024 <br> <br>  <time datetime=\"2023-12-16\">2023/12/16 </time> <br> <br> <u>Name </u>: GAUBIL Clara, RAGEOT Pierre </div>\n",
    "<br> \n",
    "\n",
    "\n",
    "\n",
    "#   <center>  Time Series Analysis </center>\n"
   ]
  },
  {
   "cell_type": "markdown",
   "metadata": {},
   "source": [
    "#  <center><u>  Final TSA report  : Airline Baggage Complaints </u></center>"
   ]
  },
  {
   "cell_type": "markdown",
   "metadata": {},
   "source": [
    "This report will outline the steps of a time series analysis project including the seasonality/trend recognition, the exploration of decomposition tecnhiques, the recognition of a multiplicative or additive model and the forecasting methods. For that, we will use the Airline Baggage Complaints data set. \n",
    "\n",
    "The data set contains monthly observations from 2004 to 2010 for United Airlines, American Eagle, and Hawaiian Airlines. The variables in the data set include:\n",
    "\n",
    "Baggage - The total number of passenger complaints for theft of baggage contents, or for lost, damaged, or misrouted luggage for the airline that month\n",
    "Scheduled - The total number of flights scheduled by that airline that month\n",
    "Cancelled - The total number of flights cancelled by that airline that month\n",
    "Enplaned - The total number of passengers who boarded a plane with the airline that month"
   ]
  },
  {
   "cell_type": "code",
   "execution_count": 28,
   "metadata": {},
   "outputs": [
    {
     "name": "stdout",
     "output_type": "stream",
     "text": [
      "Requirement already satisfied: pmdarima in /opt/anaconda3/lib/python3.8/site-packages (2.0.4)\n",
      "Requirement already satisfied: joblib>=0.11 in /opt/anaconda3/lib/python3.8/site-packages (from pmdarima) (1.2.0)\n",
      "Requirement already satisfied: Cython!=0.29.18,!=0.29.31,>=0.29 in /opt/anaconda3/lib/python3.8/site-packages (from pmdarima) (0.29.21)\n",
      "Requirement already satisfied: numpy>=1.21.2 in /opt/anaconda3/lib/python3.8/site-packages (from pmdarima) (1.24.3)\n",
      "Requirement already satisfied: pandas>=0.19 in /opt/anaconda3/lib/python3.8/site-packages (from pmdarima) (2.0.3)\n",
      "Requirement already satisfied: scikit-learn>=0.22 in /opt/anaconda3/lib/python3.8/site-packages (from pmdarima) (1.2.2)\n",
      "Requirement already satisfied: scipy>=1.3.2 in /opt/anaconda3/lib/python3.8/site-packages (from pmdarima) (1.5.2)\n",
      "Requirement already satisfied: statsmodels>=0.13.2 in /opt/anaconda3/lib/python3.8/site-packages (from pmdarima) (0.14.1)\n",
      "Requirement already satisfied: urllib3 in /opt/anaconda3/lib/python3.8/site-packages (from pmdarima) (1.25.11)\n",
      "Requirement already satisfied: setuptools!=50.0.0,>=38.6.0 in /opt/anaconda3/lib/python3.8/site-packages (from pmdarima) (50.3.1.post20201107)\n",
      "Requirement already satisfied: packaging>=17.1 in /opt/anaconda3/lib/python3.8/site-packages (from pmdarima) (23.2)\n",
      "Requirement already satisfied: python-dateutil>=2.8.2 in /opt/anaconda3/lib/python3.8/site-packages (from pandas>=0.19->pmdarima) (2.8.2)\n",
      "Requirement already satisfied: pytz>=2020.1 in /opt/anaconda3/lib/python3.8/site-packages (from pandas>=0.19->pmdarima) (2020.1)\n",
      "Requirement already satisfied: tzdata>=2022.1 in /opt/anaconda3/lib/python3.8/site-packages (from pandas>=0.19->pmdarima) (2023.3)\n",
      "Requirement already satisfied: threadpoolctl>=2.0.0 in /opt/anaconda3/lib/python3.8/site-packages (from scikit-learn>=0.22->pmdarima) (2.1.0)\n",
      "Requirement already satisfied: patsy>=0.5.4 in /opt/anaconda3/lib/python3.8/site-packages (from statsmodels>=0.13.2->pmdarima) (0.5.5)\n",
      "Requirement already satisfied: six in /opt/anaconda3/lib/python3.8/site-packages (from patsy>=0.5.4->statsmodels>=0.13.2->pmdarima) (1.15.0)\n",
      "\u001b[33mDEPRECATION: pyodbc 4.0.0-unsupported has a non-standard version number. pip 23.3 will enforce this behaviour change. A possible replacement is to upgrade to a newer version of pyodbc or contact the author to suggest that they release a version with a conforming version number. Discussion can be found at https://github.com/pypa/pip/issues/12063\u001b[0m\u001b[33m\n",
      "\u001b[0m\n",
      "\u001b[1m[\u001b[0m\u001b[34;49mnotice\u001b[0m\u001b[1;39;49m]\u001b[0m\u001b[39;49m A new release of pip is available: \u001b[0m\u001b[31;49m23.2.1\u001b[0m\u001b[39;49m -> \u001b[0m\u001b[32;49m23.3.2\u001b[0m\n",
      "\u001b[1m[\u001b[0m\u001b[34;49mnotice\u001b[0m\u001b[1;39;49m]\u001b[0m\u001b[39;49m To update, run: \u001b[0m\u001b[32;49mpip install --upgrade pip\u001b[0m\n",
      "Note: you may need to restart the kernel to use updated packages.\n"
     ]
    }
   ],
   "source": [
    "%pip install pmdarima"
   ]
  },
  {
   "cell_type": "code",
   "execution_count": 29,
   "metadata": {},
   "outputs": [],
   "source": [
    "import numpy as np\n",
    "import pandas as pd\n",
    "import matplotlib.pyplot as plt                \n",
    "import seaborn as sns  \n",
    "from matplotlib.dates import YearLocator, MonthLocator, DateFormatter\n",
    "import plotly.express as px\n",
    "import scipy.stats as stats\n",
    "from pmdarima import auto_arima\n",
    "from statsmodels.tsa.seasonal import seasonal_decompose"
   ]
  },
  {
   "cell_type": "markdown",
   "metadata": {},
   "source": [
    "## <u>**1- Data exploration and cleaning**</u>"
   ]
  },
  {
   "cell_type": "markdown",
   "metadata": {},
   "source": [
    "### **1-1: Load data and data cleaning**"
   ]
  },
  {
   "cell_type": "code",
   "execution_count": 30,
   "metadata": {},
   "outputs": [],
   "source": [
    "# open the csv file\n",
    "path = 'baggagecomplaints.csv'\n",
    "df_baggage = pd.read_csv(path)"
   ]
  },
  {
   "cell_type": "code",
   "execution_count": 31,
   "metadata": {},
   "outputs": [
    {
     "data": {
      "text/html": [
       "<div>\n",
       "<style scoped>\n",
       "    .dataframe tbody tr th:only-of-type {\n",
       "        vertical-align: middle;\n",
       "    }\n",
       "\n",
       "    .dataframe tbody tr th {\n",
       "        vertical-align: top;\n",
       "    }\n",
       "\n",
       "    .dataframe thead th {\n",
       "        text-align: right;\n",
       "    }\n",
       "</style>\n",
       "<table border=\"1\" class=\"dataframe\">\n",
       "  <thead>\n",
       "    <tr style=\"text-align: right;\">\n",
       "      <th></th>\n",
       "      <th>Airline</th>\n",
       "      <th>Date</th>\n",
       "      <th>Month</th>\n",
       "      <th>Year</th>\n",
       "      <th>Baggage</th>\n",
       "      <th>Scheduled</th>\n",
       "      <th>Cancelled</th>\n",
       "      <th>Enplaned</th>\n",
       "    </tr>\n",
       "  </thead>\n",
       "  <tbody>\n",
       "    <tr>\n",
       "      <th>0</th>\n",
       "      <td>American Eagle</td>\n",
       "      <td>01/2004</td>\n",
       "      <td>1</td>\n",
       "      <td>2004</td>\n",
       "      <td>12502</td>\n",
       "      <td>38276</td>\n",
       "      <td>2481</td>\n",
       "      <td>992360</td>\n",
       "    </tr>\n",
       "    <tr>\n",
       "      <th>1</th>\n",
       "      <td>American Eagle</td>\n",
       "      <td>02/2004</td>\n",
       "      <td>2</td>\n",
       "      <td>2004</td>\n",
       "      <td>8977</td>\n",
       "      <td>35762</td>\n",
       "      <td>886</td>\n",
       "      <td>1060618</td>\n",
       "    </tr>\n",
       "    <tr>\n",
       "      <th>2</th>\n",
       "      <td>American Eagle</td>\n",
       "      <td>03/2004</td>\n",
       "      <td>3</td>\n",
       "      <td>2004</td>\n",
       "      <td>10289</td>\n",
       "      <td>39445</td>\n",
       "      <td>1346</td>\n",
       "      <td>1227469</td>\n",
       "    </tr>\n",
       "    <tr>\n",
       "      <th>3</th>\n",
       "      <td>American Eagle</td>\n",
       "      <td>04/2004</td>\n",
       "      <td>4</td>\n",
       "      <td>2004</td>\n",
       "      <td>8095</td>\n",
       "      <td>38982</td>\n",
       "      <td>755</td>\n",
       "      <td>1234451</td>\n",
       "    </tr>\n",
       "    <tr>\n",
       "      <th>4</th>\n",
       "      <td>American Eagle</td>\n",
       "      <td>05/2004</td>\n",
       "      <td>5</td>\n",
       "      <td>2004</td>\n",
       "      <td>10618</td>\n",
       "      <td>40422</td>\n",
       "      <td>2206</td>\n",
       "      <td>1267581</td>\n",
       "    </tr>\n",
       "    <tr>\n",
       "      <th>5</th>\n",
       "      <td>American Eagle</td>\n",
       "      <td>06/2004</td>\n",
       "      <td>6</td>\n",
       "      <td>2004</td>\n",
       "      <td>13684</td>\n",
       "      <td>39879</td>\n",
       "      <td>1580</td>\n",
       "      <td>1347303</td>\n",
       "    </tr>\n",
       "    <tr>\n",
       "      <th>6</th>\n",
       "      <td>American Eagle</td>\n",
       "      <td>07/2004</td>\n",
       "      <td>7</td>\n",
       "      <td>2004</td>\n",
       "      <td>14121</td>\n",
       "      <td>41586</td>\n",
       "      <td>1819</td>\n",
       "      <td>1396642</td>\n",
       "    </tr>\n",
       "    <tr>\n",
       "      <th>7</th>\n",
       "      <td>American Eagle</td>\n",
       "      <td>08/2004</td>\n",
       "      <td>8</td>\n",
       "      <td>2004</td>\n",
       "      <td>12732</td>\n",
       "      <td>42016</td>\n",
       "      <td>1465</td>\n",
       "      <td>1339264</td>\n",
       "    </tr>\n",
       "    <tr>\n",
       "      <th>8</th>\n",
       "      <td>American Eagle</td>\n",
       "      <td>09/2004</td>\n",
       "      <td>9</td>\n",
       "      <td>2004</td>\n",
       "      <td>7895</td>\n",
       "      <td>40871</td>\n",
       "      <td>1077</td>\n",
       "      <td>1292147</td>\n",
       "    </tr>\n",
       "    <tr>\n",
       "      <th>9</th>\n",
       "      <td>American Eagle</td>\n",
       "      <td>10/2004</td>\n",
       "      <td>10</td>\n",
       "      <td>2004</td>\n",
       "      <td>9444</td>\n",
       "      <td>42381</td>\n",
       "      <td>1090</td>\n",
       "      <td>1393881</td>\n",
       "    </tr>\n",
       "    <tr>\n",
       "      <th>10</th>\n",
       "      <td>American Eagle</td>\n",
       "      <td>11/2004</td>\n",
       "      <td>11</td>\n",
       "      <td>2004</td>\n",
       "      <td>9582</td>\n",
       "      <td>40839</td>\n",
       "      <td>1568</td>\n",
       "      <td>1274530</td>\n",
       "    </tr>\n",
       "    <tr>\n",
       "      <th>11</th>\n",
       "      <td>American Eagle</td>\n",
       "      <td>12/2004</td>\n",
       "      <td>12</td>\n",
       "      <td>2004</td>\n",
       "      <td>17555</td>\n",
       "      <td>42629</td>\n",
       "      <td>1514</td>\n",
       "      <td>1308685</td>\n",
       "    </tr>\n",
       "    <tr>\n",
       "      <th>12</th>\n",
       "      <td>American Eagle</td>\n",
       "      <td>01/2005</td>\n",
       "      <td>1</td>\n",
       "      <td>2005</td>\n",
       "      <td>15361</td>\n",
       "      <td>43009</td>\n",
       "      <td>3152</td>\n",
       "      <td>1185194</td>\n",
       "    </tr>\n",
       "    <tr>\n",
       "      <th>13</th>\n",
       "      <td>American Eagle</td>\n",
       "      <td>02/2005</td>\n",
       "      <td>2</td>\n",
       "      <td>2005</td>\n",
       "      <td>9561</td>\n",
       "      <td>39900</td>\n",
       "      <td>1116</td>\n",
       "      <td>1213016</td>\n",
       "    </tr>\n",
       "    <tr>\n",
       "      <th>14</th>\n",
       "      <td>American Eagle</td>\n",
       "      <td>03/2005</td>\n",
       "      <td>3</td>\n",
       "      <td>2005</td>\n",
       "      <td>13002</td>\n",
       "      <td>44844</td>\n",
       "      <td>1344</td>\n",
       "      <td>1463518</td>\n",
       "    </tr>\n",
       "  </tbody>\n",
       "</table>\n",
       "</div>"
      ],
      "text/plain": [
       "           Airline     Date  Month  Year  Baggage  Scheduled  Cancelled  \\\n",
       "0   American Eagle  01/2004      1  2004    12502      38276       2481   \n",
       "1   American Eagle  02/2004      2  2004     8977      35762        886   \n",
       "2   American Eagle  03/2004      3  2004    10289      39445       1346   \n",
       "3   American Eagle  04/2004      4  2004     8095      38982        755   \n",
       "4   American Eagle  05/2004      5  2004    10618      40422       2206   \n",
       "5   American Eagle  06/2004      6  2004    13684      39879       1580   \n",
       "6   American Eagle  07/2004      7  2004    14121      41586       1819   \n",
       "7   American Eagle  08/2004      8  2004    12732      42016       1465   \n",
       "8   American Eagle  09/2004      9  2004     7895      40871       1077   \n",
       "9   American Eagle  10/2004     10  2004     9444      42381       1090   \n",
       "10  American Eagle  11/2004     11  2004     9582      40839       1568   \n",
       "11  American Eagle  12/2004     12  2004    17555      42629       1514   \n",
       "12  American Eagle  01/2005      1  2005    15361      43009       3152   \n",
       "13  American Eagle  02/2005      2  2005     9561      39900       1116   \n",
       "14  American Eagle  03/2005      3  2005    13002      44844       1344   \n",
       "\n",
       "    Enplaned  \n",
       "0     992360  \n",
       "1    1060618  \n",
       "2    1227469  \n",
       "3    1234451  \n",
       "4    1267581  \n",
       "5    1347303  \n",
       "6    1396642  \n",
       "7    1339264  \n",
       "8    1292147  \n",
       "9    1393881  \n",
       "10   1274530  \n",
       "11   1308685  \n",
       "12   1185194  \n",
       "13   1213016  \n",
       "14   1463518  "
      ]
     },
     "execution_count": 31,
     "metadata": {},
     "output_type": "execute_result"
    }
   ],
   "source": [
    "df_baggage.head(15)"
   ]
  },
  {
   "cell_type": "code",
   "execution_count": 32,
   "metadata": {},
   "outputs": [
    {
     "name": "stdout",
     "output_type": "stream",
     "text": [
      "<class 'pandas.core.frame.DataFrame'>\n",
      "RangeIndex: 252 entries, 0 to 251\n",
      "Data columns (total 8 columns):\n",
      " #   Column     Non-Null Count  Dtype \n",
      "---  ------     --------------  ----- \n",
      " 0   Airline    252 non-null    object\n",
      " 1   Date       252 non-null    object\n",
      " 2   Month      252 non-null    int64 \n",
      " 3   Year       252 non-null    int64 \n",
      " 4   Baggage    252 non-null    int64 \n",
      " 5   Scheduled  252 non-null    int64 \n",
      " 6   Cancelled  252 non-null    int64 \n",
      " 7   Enplaned   252 non-null    int64 \n",
      "dtypes: int64(6), object(2)\n",
      "memory usage: 15.9+ KB\n"
     ]
    }
   ],
   "source": [
    "df_baggage.info()"
   ]
  },
  {
   "cell_type": "markdown",
   "metadata": {},
   "source": [
    "The dates are not a the right format. We need to convert them to datetime format for easier analysis."
   ]
  },
  {
   "cell_type": "code",
   "execution_count": 33,
   "metadata": {},
   "outputs": [
    {
     "name": "stderr",
     "output_type": "stream",
     "text": [
      "<ipython-input-33-abde81cfd1f6>:1: UserWarning:\n",
      "\n",
      "Could not infer format, so each element will be parsed individually, falling back to `dateutil`. To ensure parsing is consistent and as-expected, please specify a format.\n",
      "\n"
     ]
    }
   ],
   "source": [
    "df_baggage['Date'] = pd.to_datetime(df_baggage['Date'])"
   ]
  },
  {
   "cell_type": "markdown",
   "metadata": {},
   "source": [
    "In this notebook we will focus only on the baggages complaints so we will drop all other features to have a clean dataset"
   ]
  },
  {
   "cell_type": "code",
   "execution_count": 34,
   "metadata": {},
   "outputs": [
    {
     "data": {
      "text/html": [
       "<div>\n",
       "<style scoped>\n",
       "    .dataframe tbody tr th:only-of-type {\n",
       "        vertical-align: middle;\n",
       "    }\n",
       "\n",
       "    .dataframe tbody tr th {\n",
       "        vertical-align: top;\n",
       "    }\n",
       "\n",
       "    .dataframe thead th {\n",
       "        text-align: right;\n",
       "    }\n",
       "</style>\n",
       "<table border=\"1\" class=\"dataframe\">\n",
       "  <thead>\n",
       "    <tr style=\"text-align: right;\">\n",
       "      <th></th>\n",
       "      <th>Airline</th>\n",
       "      <th>Date</th>\n",
       "      <th>Month</th>\n",
       "      <th>Year</th>\n",
       "      <th>Baggage</th>\n",
       "    </tr>\n",
       "  </thead>\n",
       "  <tbody>\n",
       "    <tr>\n",
       "      <th>0</th>\n",
       "      <td>American Eagle</td>\n",
       "      <td>2004-01-01</td>\n",
       "      <td>1</td>\n",
       "      <td>2004</td>\n",
       "      <td>12502</td>\n",
       "    </tr>\n",
       "    <tr>\n",
       "      <th>1</th>\n",
       "      <td>American Eagle</td>\n",
       "      <td>2004-02-01</td>\n",
       "      <td>2</td>\n",
       "      <td>2004</td>\n",
       "      <td>8977</td>\n",
       "    </tr>\n",
       "    <tr>\n",
       "      <th>2</th>\n",
       "      <td>American Eagle</td>\n",
       "      <td>2004-03-01</td>\n",
       "      <td>3</td>\n",
       "      <td>2004</td>\n",
       "      <td>10289</td>\n",
       "    </tr>\n",
       "    <tr>\n",
       "      <th>3</th>\n",
       "      <td>American Eagle</td>\n",
       "      <td>2004-04-01</td>\n",
       "      <td>4</td>\n",
       "      <td>2004</td>\n",
       "      <td>8095</td>\n",
       "    </tr>\n",
       "    <tr>\n",
       "      <th>4</th>\n",
       "      <td>American Eagle</td>\n",
       "      <td>2004-05-01</td>\n",
       "      <td>5</td>\n",
       "      <td>2004</td>\n",
       "      <td>10618</td>\n",
       "    </tr>\n",
       "    <tr>\n",
       "      <th>5</th>\n",
       "      <td>American Eagle</td>\n",
       "      <td>2004-06-01</td>\n",
       "      <td>6</td>\n",
       "      <td>2004</td>\n",
       "      <td>13684</td>\n",
       "    </tr>\n",
       "    <tr>\n",
       "      <th>6</th>\n",
       "      <td>American Eagle</td>\n",
       "      <td>2004-07-01</td>\n",
       "      <td>7</td>\n",
       "      <td>2004</td>\n",
       "      <td>14121</td>\n",
       "    </tr>\n",
       "    <tr>\n",
       "      <th>7</th>\n",
       "      <td>American Eagle</td>\n",
       "      <td>2004-08-01</td>\n",
       "      <td>8</td>\n",
       "      <td>2004</td>\n",
       "      <td>12732</td>\n",
       "    </tr>\n",
       "    <tr>\n",
       "      <th>8</th>\n",
       "      <td>American Eagle</td>\n",
       "      <td>2004-09-01</td>\n",
       "      <td>9</td>\n",
       "      <td>2004</td>\n",
       "      <td>7895</td>\n",
       "    </tr>\n",
       "    <tr>\n",
       "      <th>9</th>\n",
       "      <td>American Eagle</td>\n",
       "      <td>2004-10-01</td>\n",
       "      <td>10</td>\n",
       "      <td>2004</td>\n",
       "      <td>9444</td>\n",
       "    </tr>\n",
       "    <tr>\n",
       "      <th>10</th>\n",
       "      <td>American Eagle</td>\n",
       "      <td>2004-11-01</td>\n",
       "      <td>11</td>\n",
       "      <td>2004</td>\n",
       "      <td>9582</td>\n",
       "    </tr>\n",
       "    <tr>\n",
       "      <th>11</th>\n",
       "      <td>American Eagle</td>\n",
       "      <td>2004-12-01</td>\n",
       "      <td>12</td>\n",
       "      <td>2004</td>\n",
       "      <td>17555</td>\n",
       "    </tr>\n",
       "    <tr>\n",
       "      <th>12</th>\n",
       "      <td>American Eagle</td>\n",
       "      <td>2005-01-01</td>\n",
       "      <td>1</td>\n",
       "      <td>2005</td>\n",
       "      <td>15361</td>\n",
       "    </tr>\n",
       "    <tr>\n",
       "      <th>13</th>\n",
       "      <td>American Eagle</td>\n",
       "      <td>2005-02-01</td>\n",
       "      <td>2</td>\n",
       "      <td>2005</td>\n",
       "      <td>9561</td>\n",
       "    </tr>\n",
       "    <tr>\n",
       "      <th>14</th>\n",
       "      <td>American Eagle</td>\n",
       "      <td>2005-03-01</td>\n",
       "      <td>3</td>\n",
       "      <td>2005</td>\n",
       "      <td>13002</td>\n",
       "    </tr>\n",
       "  </tbody>\n",
       "</table>\n",
       "</div>"
      ],
      "text/plain": [
       "           Airline       Date  Month  Year  Baggage\n",
       "0   American Eagle 2004-01-01      1  2004    12502\n",
       "1   American Eagle 2004-02-01      2  2004     8977\n",
       "2   American Eagle 2004-03-01      3  2004    10289\n",
       "3   American Eagle 2004-04-01      4  2004     8095\n",
       "4   American Eagle 2004-05-01      5  2004    10618\n",
       "5   American Eagle 2004-06-01      6  2004    13684\n",
       "6   American Eagle 2004-07-01      7  2004    14121\n",
       "7   American Eagle 2004-08-01      8  2004    12732\n",
       "8   American Eagle 2004-09-01      9  2004     7895\n",
       "9   American Eagle 2004-10-01     10  2004     9444\n",
       "10  American Eagle 2004-11-01     11  2004     9582\n",
       "11  American Eagle 2004-12-01     12  2004    17555\n",
       "12  American Eagle 2005-01-01      1  2005    15361\n",
       "13  American Eagle 2005-02-01      2  2005     9561\n",
       "14  American Eagle 2005-03-01      3  2005    13002"
      ]
     },
     "execution_count": 34,
     "metadata": {},
     "output_type": "execute_result"
    }
   ],
   "source": [
    "df_baggage.drop(columns=['Scheduled', 'Cancelled', 'Enplaned'], inplace=True)\n",
    "df_baggage.head(15)"
   ]
  },
  {
   "cell_type": "code",
   "execution_count": 35,
   "metadata": {},
   "outputs": [
    {
     "data": {
      "text/html": [
       "<div>\n",
       "<style scoped>\n",
       "    .dataframe tbody tr th:only-of-type {\n",
       "        vertical-align: middle;\n",
       "    }\n",
       "\n",
       "    .dataframe tbody tr th {\n",
       "        vertical-align: top;\n",
       "    }\n",
       "\n",
       "    .dataframe thead th {\n",
       "        text-align: right;\n",
       "    }\n",
       "</style>\n",
       "<table border=\"1\" class=\"dataframe\">\n",
       "  <thead>\n",
       "    <tr style=\"text-align: right;\">\n",
       "      <th></th>\n",
       "      <th>Date</th>\n",
       "      <th>Month</th>\n",
       "      <th>Year</th>\n",
       "      <th>Baggage</th>\n",
       "    </tr>\n",
       "  </thead>\n",
       "  <tbody>\n",
       "    <tr>\n",
       "      <th>count</th>\n",
       "      <td>252</td>\n",
       "      <td>252.000000</td>\n",
       "      <td>252.00000</td>\n",
       "      <td>252.000000</td>\n",
       "    </tr>\n",
       "    <tr>\n",
       "      <th>mean</th>\n",
       "      <td>2007-06-16 21:08:34.285714176</td>\n",
       "      <td>6.500000</td>\n",
       "      <td>2007.00000</td>\n",
       "      <td>12613.507937</td>\n",
       "    </tr>\n",
       "    <tr>\n",
       "      <th>min</th>\n",
       "      <td>2004-01-01 00:00:00</td>\n",
       "      <td>1.000000</td>\n",
       "      <td>2004.00000</td>\n",
       "      <td>1033.000000</td>\n",
       "    </tr>\n",
       "    <tr>\n",
       "      <th>25%</th>\n",
       "      <td>2005-09-23 12:00:00</td>\n",
       "      <td>3.750000</td>\n",
       "      <td>2005.00000</td>\n",
       "      <td>1910.500000</td>\n",
       "    </tr>\n",
       "    <tr>\n",
       "      <th>50%</th>\n",
       "      <td>2007-06-16 00:00:00</td>\n",
       "      <td>6.500000</td>\n",
       "      <td>2007.00000</td>\n",
       "      <td>12224.000000</td>\n",
       "    </tr>\n",
       "    <tr>\n",
       "      <th>75%</th>\n",
       "      <td>2009-03-08 18:00:00</td>\n",
       "      <td>9.250000</td>\n",
       "      <td>2009.00000</td>\n",
       "      <td>19359.250000</td>\n",
       "    </tr>\n",
       "    <tr>\n",
       "      <th>max</th>\n",
       "      <td>2010-12-01 00:00:00</td>\n",
       "      <td>12.000000</td>\n",
       "      <td>2010.00000</td>\n",
       "      <td>41787.000000</td>\n",
       "    </tr>\n",
       "    <tr>\n",
       "      <th>std</th>\n",
       "      <td>NaN</td>\n",
       "      <td>3.458922</td>\n",
       "      <td>2.00398</td>\n",
       "      <td>9993.307166</td>\n",
       "    </tr>\n",
       "  </tbody>\n",
       "</table>\n",
       "</div>"
      ],
      "text/plain": [
       "                                Date       Month        Year       Baggage\n",
       "count                            252  252.000000   252.00000    252.000000\n",
       "mean   2007-06-16 21:08:34.285714176    6.500000  2007.00000  12613.507937\n",
       "min              2004-01-01 00:00:00    1.000000  2004.00000   1033.000000\n",
       "25%              2005-09-23 12:00:00    3.750000  2005.00000   1910.500000\n",
       "50%              2007-06-16 00:00:00    6.500000  2007.00000  12224.000000\n",
       "75%              2009-03-08 18:00:00    9.250000  2009.00000  19359.250000\n",
       "max              2010-12-01 00:00:00   12.000000  2010.00000  41787.000000\n",
       "std                              NaN    3.458922     2.00398   9993.307166"
      ]
     },
     "execution_count": 35,
     "metadata": {},
     "output_type": "execute_result"
    }
   ],
   "source": [
    "df_baggage.describe()"
   ]
  },
  {
   "cell_type": "markdown",
   "metadata": {},
   "source": [
    "We need to modifiy the date column to have it in a more usable format:"
   ]
  },
  {
   "cell_type": "code",
   "execution_count": 36,
   "metadata": {},
   "outputs": [
    {
     "data": {
      "text/plain": [
       "Airline\n",
       "American Eagle    84\n",
       "Hawaiian          84\n",
       "United            84\n",
       "Name: count, dtype: int64"
      ]
     },
     "execution_count": 36,
     "metadata": {},
     "output_type": "execute_result"
    }
   ],
   "source": [
    "df_baggage['Airline'].value_counts()"
   ]
  },
  {
   "cell_type": "markdown",
   "metadata": {},
   "source": [
    "Each airline has 84 observations, there are no duplicates in dataset or missing values."
   ]
  },
  {
   "cell_type": "markdown",
   "metadata": {},
   "source": [
    "### **1-2: first observations, analysis**  \n",
    "\n",
    "In this part we will have a first look at the dataset distribution and see if we can \"visually\" (without statistical analysis) recognize trend/seasonality or deduce if the model is eather additive of multiplicative"
   ]
  },
  {
   "cell_type": "code",
   "execution_count": 37,
   "metadata": {},
   "outputs": [
    {
     "data": {
      "image/png": "[encoded data removed]",
      "text/plain": [
       "<Figure size 720x432 with 1 Axes>"
      ]
     },
     "metadata": {
      "needs_background": "light"
     },
     "output_type": "display_data"
    }
   ],
   "source": [
    "plt.figure(figsize=(10, 6))\n",
    "sns.lineplot(x='Date', y='Baggage', hue='Airline', data=df_baggage)\n",
    "\n",
    "# Set locator for x-axis ticks (showing only years, adjust as needed)\n",
    "plt.gca().xaxis.set_major_locator(YearLocator())\n",
    "plt.gca().xaxis.set_minor_locator(MonthLocator())\n",
    "plt.gca().xaxis.set_major_formatter(DateFormatter('%Y'))\n",
    "\n",
    "# Midpoint of each year\n",
    "for year in df_baggage['Date'].dt.year.unique():\n",
    "    mid_date = pd.to_datetime(f'{year}-06-30') \n",
    "    plt.axvline(mid_date, linestyle='--', color='grey', linewidth=0.8)\n",
    "\n",
    "plt.title('Baggage Complaints Over Time')\n",
    "plt.xlabel('Date')\n",
    "plt.ylabel('Baggage Complaints')\n",
    "plt.grid(True)\n",
    "plt.show()\n"
   ]
  },
  {
   "cell_type": "markdown",
   "metadata": {},
   "source": [
    "After a first visualization of the data, it seems that we have a seasonality in the data related to American Eagle and Hawaiian airlines. Indeed, for these two airlines, baggage complaints seem to first decrease, then increase a little, then decrease a little, then increase a lot over a period of about half a year. The time series for Hawaiian passengers is relatively flat compared to American Eagle and United, so it’s difficult to detect a pattern over time.  \n",
    "\n",
    "Concerning the trends, the one of the Hawaiian airline is flat, whereas we can see that trends in baggage complaints for the other two companies seem to be more difficult to analyze from these charts because of the many fluctuations. \n",
    "\n",
    "Finally, it seems difficullt to analyse the lines connecting the lowest points and the highest points of each curves to deduce the decomposition model (additive or multiplicative)"
   ]
  },
  {
   "cell_type": "markdown",
   "metadata": {},
   "source": [
    "## <u>**2- Saisonality:**</u>"
   ]
  },
  {
   "cell_type": "markdown",
   "metadata": {},
   "source": [
    "Let's dig more into the seasonality recognition with useful tools as the Buys-Ballot table and the fisher test. We will first zoom on some period to try deducing some seasonality."
   ]
  },
  {
   "cell_type": "markdown",
   "metadata": {},
   "source": [
    "### **2-1: visual exploration of seasonality** "
   ]
  },
  {
   "cell_type": "markdown",
   "metadata": {},
   "source": [
    "As the time series for hawaiaan airline is relatively flat, it is difficult to detect a pattern over time. In this way, we will display the curves separately for each airline and try to analyze the seasonality of the data."
   ]
  },
  {
   "cell_type": "code",
   "execution_count": 38,
   "metadata": {},
   "outputs": [
    {
     "data": {
      "application/vnd.plotly.v1+json": {
       "config": {
        "plotlyServerURL": "https://plot.ly"
       },
       "data": [
        {
         "hovertemplate": "Airline=American Eagle<br>Date=%{x}<br>Baggage=%{y}<extra></extra>",
         "legendgroup": "American Eagle",
         "line": {
          "color": "rgb(102, 197, 204)",
          "dash": "solid"
         },
         "marker": {
          "symbol": "circle"
         },
         "mode": "lines",
         "name": "American Eagle",
         "orientation": "v",
         "showlegend": true,
         "type": "scatter",
         "x": [
          "2004-01-01T00:00:00",
          "2004-02-01T00:00:00",
          "2004-03-01T00:00:00",
          "2004-04-01T00:00:00",
          "2004-05-01T00:00:00",
          "2004-06-01T00:00:00",
          "2004-07-01T00:00:00",
          "2004-08-01T00:00:00",
          "2004-09-01T00:00:00",
          "2004-10-01T00:00:00",
          "2004-11-01T00:00:00",
          "2004-12-01T00:00:00",
          "2005-01-01T00:00:00",
          "2005-02-01T00:00:00",
          "2005-03-01T00:00:00",
          "2005-04-01T00:00:00",
          "2005-05-01T00:00:00",
          "2005-06-01T00:00:00",
          "2005-07-01T00:00:00",
          "2005-08-01T00:00:00",
          "2005-09-01T00:00:00",
          "2005-10-01T00:00:00",
          "2005-11-01T00:00:00",
          "2005-12-01T00:00:00",
          "2006-01-01T00:00:00",
          "2006-02-01T00:00:00",
          "2006-03-01T00:00:00",
          "2006-04-01T00:00:00",
          "2006-05-01T00:00:00",
          "2006-06-01T00:00:00",
          "2006-07-01T00:00:00",
          "2006-08-01T00:00:00",
          "2006-09-01T00:00:00",
          "2006-10-01T00:00:00",
          "2006-11-01T00:00:00",
          "2006-12-01T00:00:00",
          "2007-01-01T00:00:00",
          "2007-02-01T00:00:00",
          "2007-03-01T00:00:00",
          "2007-04-01T00:00:00",
          "2007-05-01T00:00:00",
          "2007-06-01T00:00:00",
          "2007-07-01T00:00:00",
          "2007-08-01T00:00:00",
          "2007-09-01T00:00:00",
          "2007-10-01T00:00:00",
          "2007-11-01T00:00:00",
          "2007-12-01T00:00:00",
          "2008-01-01T00:00:00",
          "2008-02-01T00:00:00",
          "2008-03-01T00:00:00",
          "2008-04-01T00:00:00",
          "2008-05-01T00:00:00",
          "2008-06-01T00:00:00",
          "2008-07-01T00:00:00",
          "2008-08-01T00:00:00",
          "2008-09-01T00:00:00",
          "2008-10-01T00:00:00",
          "2008-11-01T00:00:00",
          "2008-12-01T00:00:00",
          "2009-01-01T00:00:00",
          "2009-02-01T00:00:00",
          "2009-03-01T00:00:00",
          "2009-04-01T00:00:00",
          "2009-05-01T00:00:00",
          "2009-06-01T00:00:00",
          "2009-07-01T00:00:00",
          "2009-08-01T00:00:00",
          "2009-09-01T00:00:00",
          "2009-10-01T00:00:00",
          "2009-11-01T00:00:00",
          "2009-12-01T00:00:00",
          "2010-01-01T00:00:00",
          "2010-02-01T00:00:00",
          "2010-03-01T00:00:00",
          "2010-04-01T00:00:00",
          "2010-05-01T00:00:00",
          "2010-06-01T00:00:00",
          "2010-07-01T00:00:00",
          "2010-08-01T00:00:00",
          "2010-09-01T00:00:00",
          "2010-10-01T00:00:00",
          "2010-11-01T00:00:00",
          "2010-12-01T00:00:00"
         ],
         "xaxis": "x",
         "y": [
          12502,
          8977,
          10289,
          8095,
          10618,
          13684,
          14121,
          12732,
          7895,
          9444,
          9582,
          17555,
          15361,
          9561,
          13002,
          11071,
          12300,
          16373,
          19701,
          16666,
          12636,
          14258,
          14440,
          24696,
          19255,
          17319,
          20344,
          19726,
          21248,
          22767,
          23184,
          27630,
          25922,
          24699,
          18954,
          28556,
          24190,
          20753,
          21928,
          19483,
          19209,
          26213,
          24993,
          23156,
          14816,
          15351,
          13946,
          23762,
          17507,
          15795,
          17782,
          14566,
          13522,
          15620,
          12885,
          12148,
          8729,
          9110,
          7591,
          15475,
          10231,
          7538,
          10093,
          10547,
          10279,
          13220,
          11625,
          10832,
          7052,
          10000,
          7081,
          12496,
          11059,
          8973,
          9762,
          7864,
          9399,
          10431,
          9840,
          9583,
          8324,
          8498,
          8067,
          11526
         ],
         "yaxis": "y"
        },
        {
         "hovertemplate": "Airline=Hawaiian<br>Date=%{x}<br>Baggage=%{y}<extra></extra>",
         "legendgroup": "Hawaiian",
         "line": {
          "color": "rgb(246, 207, 113)",
          "dash": "solid"
         },
         "marker": {
          "symbol": "circle"
         },
         "mode": "lines",
         "name": "Hawaiian",
         "orientation": "v",
         "showlegend": true,
         "type": "scatter",
         "x": [
          "2004-01-01T00:00:00",
          "2004-02-01T00:00:00",
          "2004-03-01T00:00:00",
          "2004-04-01T00:00:00",
          "2004-05-01T00:00:00",
          "2004-06-01T00:00:00",
          "2004-07-01T00:00:00",
          "2004-08-01T00:00:00",
          "2004-09-01T00:00:00",
          "2004-10-01T00:00:00",
          "2004-11-01T00:00:00",
          "2004-12-01T00:00:00",
          "2005-01-01T00:00:00",
          "2005-02-01T00:00:00",
          "2005-03-01T00:00:00",
          "2005-04-01T00:00:00",
          "2005-05-01T00:00:00",
          "2005-06-01T00:00:00",
          "2005-07-01T00:00:00",
          "2005-08-01T00:00:00",
          "2005-09-01T00:00:00",
          "2005-10-01T00:00:00",
          "2005-11-01T00:00:00",
          "2005-12-01T00:00:00",
          "2006-01-01T00:00:00",
          "2006-02-01T00:00:00",
          "2006-03-01T00:00:00",
          "2006-04-01T00:00:00",
          "2006-05-01T00:00:00",
          "2006-06-01T00:00:00",
          "2006-07-01T00:00:00",
          "2006-08-01T00:00:00",
          "2006-09-01T00:00:00",
          "2006-10-01T00:00:00",
          "2006-11-01T00:00:00",
          "2006-12-01T00:00:00",
          "2007-01-01T00:00:00",
          "2007-02-01T00:00:00",
          "2007-03-01T00:00:00",
          "2007-04-01T00:00:00",
          "2007-05-01T00:00:00",
          "2007-06-01T00:00:00",
          "2007-07-01T00:00:00",
          "2007-08-01T00:00:00",
          "2007-09-01T00:00:00",
          "2007-10-01T00:00:00",
          "2007-11-01T00:00:00",
          "2007-12-01T00:00:00",
          "2008-01-01T00:00:00",
          "2008-02-01T00:00:00",
          "2008-03-01T00:00:00",
          "2008-04-01T00:00:00",
          "2008-05-01T00:00:00",
          "2008-06-01T00:00:00",
          "2008-07-01T00:00:00",
          "2008-08-01T00:00:00",
          "2008-09-01T00:00:00",
          "2008-10-01T00:00:00",
          "2008-11-01T00:00:00",
          "2008-12-01T00:00:00",
          "2009-01-01T00:00:00",
          "2009-02-01T00:00:00",
          "2009-03-01T00:00:00",
          "2009-04-01T00:00:00",
          "2009-05-01T00:00:00",
          "2009-06-01T00:00:00",
          "2009-07-01T00:00:00",
          "2009-08-01T00:00:00",
          "2009-09-01T00:00:00",
          "2009-10-01T00:00:00",
          "2009-11-01T00:00:00",
          "2009-12-01T00:00:00",
          "2010-01-01T00:00:00",
          "2010-02-01T00:00:00",
          "2010-03-01T00:00:00",
          "2010-04-01T00:00:00",
          "2010-05-01T00:00:00",
          "2010-06-01T00:00:00",
          "2010-07-01T00:00:00",
          "2010-08-01T00:00:00",
          "2010-09-01T00:00:00",
          "2010-10-01T00:00:00",
          "2010-11-01T00:00:00",
          "2010-12-01T00:00:00"
         ],
         "xaxis": "x2",
         "y": [
          1717,
          1599,
          1327,
          1350,
          1304,
          1697,
          1398,
          1259,
          1033,
          1176,
          1084,
          1146,
          1206,
          1154,
          1541,
          1348,
          1408,
          1625,
          1906,
          1726,
          1236,
          1443,
          1286,
          1629,
          1461,
          1388,
          2049,
          1522,
          1305,
          1411,
          1530,
          1733,
          1421,
          1757,
          1790,
          2252,
          2046,
          1922,
          2331,
          1583,
          1601,
          2163,
          2529,
          2013,
          2064,
          2069,
          2086,
          1962,
          1795,
          1273,
          1511,
          2449,
          2696,
          2618,
          2791,
          2121,
          1428,
          1556,
          1532,
          1803,
          1303,
          1389,
          1323,
          1300,
          1251,
          1381,
          1573,
          1604,
          1313,
          1319,
          1140,
          1179,
          1326,
          1200,
          1180,
          1076,
          1264,
          1360,
          1386,
          1283,
          1912,
          2265,
          2020,
          2705
         ],
         "yaxis": "y2"
        },
        {
         "hovertemplate": "Airline=United<br>Date=%{x}<br>Baggage=%{y}<extra></extra>",
         "legendgroup": "United",
         "line": {
          "color": "rgb(248, 156, 116)",
          "dash": "solid"
         },
         "marker": {
          "symbol": "circle"
         },
         "mode": "lines",
         "name": "United",
         "orientation": "v",
         "showlegend": true,
         "type": "scatter",
         "x": [
          "2004-01-01T00:00:00",
          "2004-02-01T00:00:00",
          "2004-03-01T00:00:00",
          "2004-04-01T00:00:00",
          "2004-05-01T00:00:00",
          "2004-06-01T00:00:00",
          "2004-07-01T00:00:00",
          "2004-08-01T00:00:00",
          "2004-09-01T00:00:00",
          "2004-10-01T00:00:00",
          "2004-11-01T00:00:00",
          "2004-12-01T00:00:00",
          "2005-01-01T00:00:00",
          "2005-02-01T00:00:00",
          "2005-03-01T00:00:00",
          "2005-04-01T00:00:00",
          "2005-05-01T00:00:00",
          "2005-06-01T00:00:00",
          "2005-07-01T00:00:00",
          "2005-08-01T00:00:00",
          "2005-09-01T00:00:00",
          "2005-10-01T00:00:00",
          "2005-11-01T00:00:00",
          "2005-12-01T00:00:00",
          "2006-01-01T00:00:00",
          "2006-02-01T00:00:00",
          "2006-03-01T00:00:00",
          "2006-04-01T00:00:00",
          "2006-05-01T00:00:00",
          "2006-06-01T00:00:00",
          "2006-07-01T00:00:00",
          "2006-08-01T00:00:00",
          "2006-09-01T00:00:00",
          "2006-10-01T00:00:00",
          "2006-11-01T00:00:00",
          "2006-12-01T00:00:00",
          "2007-01-01T00:00:00",
          "2007-02-01T00:00:00",
          "2007-03-01T00:00:00",
          "2007-04-01T00:00:00",
          "2007-05-01T00:00:00",
          "2007-06-01T00:00:00",
          "2007-07-01T00:00:00",
          "2007-08-01T00:00:00",
          "2007-09-01T00:00:00",
          "2007-10-01T00:00:00",
          "2007-11-01T00:00:00",
          "2007-12-01T00:00:00",
          "2008-01-01T00:00:00",
          "2008-02-01T00:00:00",
          "2008-03-01T00:00:00",
          "2008-04-01T00:00:00",
          "2008-05-01T00:00:00",
          "2008-06-01T00:00:00",
          "2008-07-01T00:00:00",
          "2008-08-01T00:00:00",
          "2008-09-01T00:00:00",
          "2008-10-01T00:00:00",
          "2008-11-01T00:00:00",
          "2008-12-01T00:00:00",
          "2009-01-01T00:00:00",
          "2009-02-01T00:00:00",
          "2009-03-01T00:00:00",
          "2009-04-01T00:00:00",
          "2009-05-01T00:00:00",
          "2009-06-01T00:00:00",
          "2009-07-01T00:00:00",
          "2009-08-01T00:00:00",
          "2009-09-01T00:00:00",
          "2009-10-01T00:00:00",
          "2009-11-01T00:00:00",
          "2009-12-01T00:00:00",
          "2010-01-01T00:00:00",
          "2010-02-01T00:00:00",
          "2010-03-01T00:00:00",
          "2010-04-01T00:00:00",
          "2010-05-01T00:00:00",
          "2010-06-01T00:00:00",
          "2010-07-01T00:00:00",
          "2010-08-01T00:00:00",
          "2010-09-01T00:00:00",
          "2010-10-01T00:00:00",
          "2010-11-01T00:00:00",
          "2010-12-01T00:00:00"
         ],
         "xaxis": "x3",
         "y": [
          25015,
          16660,
          19318,
          15638,
          19302,
          21892,
          26666,
          25510,
          13305,
          17736,
          15812,
          32458,
          25861,
          18647,
          22264,
          14262,
          19977,
          28024,
          23513,
          21000,
          14138,
          16628,
          15254,
          29235,
          23232,
          18551,
          22246,
          18019,
          19996,
          27588,
          30325,
          39123,
          37039,
          35640,
          28896,
          40483,
          41787,
          34581,
          33920,
          25667,
          25524,
          31242,
          30356,
          29331,
          18033,
          20147,
          16927,
          33269,
          26113,
          22059,
          23932,
          22994,
          23217,
          29690,
          26604,
          32827,
          17551,
          15429,
          13138,
          29803,
          19653,
          12627,
          16285,
          13517,
          15083,
          22844,
          19259,
          18646,
          11270,
          14513,
          9814,
          22845,
          17307,
          13269,
          14782,
          11121,
          11947,
          15784,
          14309,
          14099,
          9435,
          9565,
          8597,
          14415
         ],
         "yaxis": "y3"
        }
       ],
       "layout": {
        "annotations": [
         {
          "font": {},
          "showarrow": false,
          "text": "Airline=American Eagle",
          "x": 0.15999999999999998,
          "xanchor": "center",
          "xref": "paper",
          "y": 1,
          "yanchor": "bottom",
          "yref": "paper"
         },
         {
          "font": {},
          "showarrow": false,
          "text": "Airline=Hawaiian",
          "x": 0.49999999999999994,
          "xanchor": "center",
          "xref": "paper",
          "y": 1,
          "yanchor": "bottom",
          "yref": "paper"
         },
         {
          "font": {},
          "showarrow": false,
          "text": "Airline=United",
          "x": 0.8399999999999999,
          "xanchor": "center",
          "xref": "paper",
          "y": 1,
          "yanchor": "bottom",
          "yref": "paper"
         }
        ],
        "legend": {
         "title": {
          "text": "Airline"
         },
         "tracegroupgap": 0
        },
        "margin": {
         "t": 60
        },
        "plot_bgcolor": "white",
        "template": {
         "data": {
          "bar": [
           {
            "error_x": {
             "color": "#2a3f5f"
            },
            "error_y": {
             "color": "#2a3f5f"
            },
            "marker": {
             "line": {
              "color": "#E5ECF6",
              "width": 0.5
             },
             "pattern": {
              "fillmode": "overlay",
              "size": 10,
              "solidity": 0.2
             }
            },
            "type": "bar"
           }
          ],
          "barpolar": [
           {
            "marker": {
             "line": {
              "color": "#E5ECF6",
              "width": 0.5
             },
             "pattern": {
              "fillmode": "overlay",
              "size": 10,
              "solidity": 0.2
             }
            },
            "type": "barpolar"
           }
          ],
          "carpet": [
           {
            "aaxis": {
             "endlinecolor": "#2a3f5f",
             "gridcolor": "white",
             "linecolor": "white",
             "minorgridcolor": "white",
             "startlinecolor": "#2a3f5f"
            },
            "baxis": {
             "endlinecolor": "#2a3f5f",
             "gridcolor": "white",
             "linecolor": "white",
             "minorgridcolor": "white",
             "startlinecolor": "#2a3f5f"
            },
            "type": "carpet"
           }
          ],
          "choropleth": [
           {
            "colorbar": {
             "outlinewidth": 0,
             "ticks": ""
            },
            "type": "choropleth"
           }
          ],
          "contour": [
           {
            "colorbar": {
             "outlinewidth": 0,
             "ticks": ""
            },
            "colorscale": [
             [
              0,
              "#0d0887"
             ],
             [
              0.1111111111111111,
              "#46039f"
             ],
             [
              0.2222222222222222,
              "#7201a8"
             ],
             [
              0.3333333333333333,
              "#9c179e"
             ],
             [
              0.4444444444444444,
              "#bd3786"
             ],
             [
              0.5555555555555556,
              "#d8576b"
             ],
             [
              0.6666666666666666,
              "#ed7953"
             ],
             [
              0.7777777777777778,
              "#fb9f3a"
             ],
             [
              0.8888888888888888,
              "#fdca26"
             ],
             [
              1,
              "#f0f921"
             ]
            ],
            "type": "contour"
           }
          ],
          "contourcarpet": [
           {
            "colorbar": {
             "outlinewidth": 0,
             "ticks": ""
            },
            "type": "contourcarpet"
           }
          ],
          "heatmap": [
           {
            "colorbar": {
             "outlinewidth": 0,
             "ticks": ""
            },
            "colorscale": [
             [
              0,
              "#0d0887"
             ],
             [
              0.1111111111111111,
              "#46039f"
             ],
             [
              0.2222222222222222,
              "#7201a8"
             ],
             [
              0.3333333333333333,
              "#9c179e"
             ],
             [
              0.4444444444444444,
              "#bd3786"
             ],
             [
              0.5555555555555556,
              "#d8576b"
             ],
             [
              0.6666666666666666,
              "#ed7953"
             ],
             [
              0.7777777777777778,
              "#fb9f3a"
             ],
             [
              0.8888888888888888,
              "#fdca26"
             ],
             [
              1,
              "#f0f921"
             ]
            ],
            "type": "heatmap"
           }
          ],
          "heatmapgl": [
           {
            "colorbar": {
             "outlinewidth": 0,
             "ticks": ""
            },
            "colorscale": [
             [
              0,
              "#0d0887"
             ],
             [
              0.1111111111111111,
              "#46039f"
             ],
             [
              0.2222222222222222,
              "#7201a8"
             ],
             [
              0.3333333333333333,
              "#9c179e"
             ],
             [
              0.4444444444444444,
              "#bd3786"
             ],
             [
              0.5555555555555556,
              "#d8576b"
             ],
             [
              0.6666666666666666,
              "#ed7953"
             ],
             [
              0.7777777777777778,
              "#fb9f3a"
             ],
             [
              0.8888888888888888,
              "#fdca26"
             ],
             [
              1,
              "#f0f921"
             ]
            ],
            "type": "heatmapgl"
           }
          ],
          "histogram": [
           {
            "marker": {
             "pattern": {
              "fillmode": "overlay",
              "size": 10,
              "solidity": 0.2
             }
            },
            "type": "histogram"
           }
          ],
          "histogram2d": [
           {
            "colorbar": {
             "outlinewidth": 0,
             "ticks": ""
            },
            "colorscale": [
             [
              0,
              "#0d0887"
             ],
             [
              0.1111111111111111,
              "#46039f"
             ],
             [
              0.2222222222222222,
              "#7201a8"
             ],
             [
              0.3333333333333333,
              "#9c179e"
             ],
             [
              0.4444444444444444,
              "#bd3786"
             ],
             [
              0.5555555555555556,
              "#d8576b"
             ],
             [
              0.6666666666666666,
              "#ed7953"
             ],
             [
              0.7777777777777778,
              "#fb9f3a"
             ],
             [
              0.8888888888888888,
              "#fdca26"
             ],
             [
              1,
              "#f0f921"
             ]
            ],
            "type": "histogram2d"
           }
          ],
          "histogram2dcontour": [
           {
            "colorbar": {
             "outlinewidth": 0,
             "ticks": ""
            },
            "colorscale": [
             [
              0,
              "#0d0887"
             ],
             [
              0.1111111111111111,
              "#46039f"
             ],
             [
              0.2222222222222222,
              "#7201a8"
             ],
             [
              0.3333333333333333,
              "#9c179e"
             ],
             [
              0.4444444444444444,
              "#bd3786"
             ],
             [
              0.5555555555555556,
              "#d8576b"
             ],
             [
              0.6666666666666666,
              "#ed7953"
             ],
             [
              0.7777777777777778,
              "#fb9f3a"
             ],
             [
              0.8888888888888888,
              "#fdca26"
             ],
             [
              1,
              "#f0f921"
             ]
            ],
            "type": "histogram2dcontour"
           }
          ],
          "mesh3d": [
           {
            "colorbar": {
             "outlinewidth": 0,
             "ticks": ""
            },
            "type": "mesh3d"
           }
          ],
          "parcoords": [
           {
            "line": {
             "colorbar": {
              "outlinewidth": 0,
              "ticks": ""
             }
            },
            "type": "parcoords"
           }
          ],
          "pie": [
           {
            "automargin": true,
            "type": "pie"
           }
          ],
          "scatter": [
           {
            "fillpattern": {
             "fillmode": "overlay",
             "size": 10,
             "solidity": 0.2
            },
            "type": "scatter"
           }
          ],
          "scatter3d": [
           {
            "line": {
             "colorbar": {
              "outlinewidth": 0,
              "ticks": ""
             }
            },
            "marker": {
             "colorbar": {
              "outlinewidth": 0,
              "ticks": ""
             }
            },
            "type": "scatter3d"
           }
          ],
          "scattercarpet": [
           {
            "marker": {
             "colorbar": {
              "outlinewidth": 0,
              "ticks": ""
             }
            },
            "type": "scattercarpet"
           }
          ],
          "scattergeo": [
           {
            "marker": {
             "colorbar": {
              "outlinewidth": 0,
              "ticks": ""
             }
            },
            "type": "scattergeo"
           }
          ],
          "scattergl": [
           {
            "marker": {
             "colorbar": {
              "outlinewidth": 0,
              "ticks": ""
             }
            },
            "type": "scattergl"
           }
          ],
          "scattermapbox": [
           {
            "marker": {
             "colorbar": {
              "outlinewidth": 0,
              "ticks": ""
             }
            },
            "type": "scattermapbox"
           }
          ],
          "scatterpolar": [
           {
            "marker": {
             "colorbar": {
              "outlinewidth": 0,
              "ticks": ""
             }
            },
            "type": "scatterpolar"
           }
          ],
          "scatterpolargl": [
           {
            "marker": {
             "colorbar": {
              "outlinewidth": 0,
              "ticks": ""
             }
            },
            "type": "scatterpolargl"
           }
          ],
          "scatterternary": [
           {
            "marker": {
             "colorbar": {
              "outlinewidth": 0,
              "ticks": ""
             }
            },
            "type": "scatterternary"
           }
          ],
          "surface": [
           {
            "colorbar": {
             "outlinewidth": 0,
             "ticks": ""
            },
            "colorscale": [
             [
              0,
              "#0d0887"
             ],
             [
              0.1111111111111111,
              "#46039f"
             ],
             [
              0.2222222222222222,
              "#7201a8"
             ],
             [
              0.3333333333333333,
              "#9c179e"
             ],
             [
              0.4444444444444444,
              "#bd3786"
             ],
             [
              0.5555555555555556,
              "#d8576b"
             ],
             [
              0.6666666666666666,
              "#ed7953"
             ],
             [
              0.7777777777777778,
              "#fb9f3a"
             ],
             [
              0.8888888888888888,
              "#fdca26"
             ],
             [
              1,
              "#f0f921"
             ]
            ],
            "type": "surface"
           }
          ],
          "table": [
           {
            "cells": {
             "fill": {
              "color": "#EBF0F8"
             },
             "line": {
              "color": "white"
             }
            },
            "header": {
             "fill": {
              "color": "#C8D4E3"
             },
             "line": {
              "color": "white"
             }
            },
            "type": "table"
           }
          ]
         },
         "layout": {
          "annotationdefaults": {
           "arrowcolor": "#2a3f5f",
           "arrowhead": 0,
           "arrowwidth": 1
          },
          "autotypenumbers": "strict",
          "coloraxis": {
           "colorbar": {
            "outlinewidth": 0,
            "ticks": ""
           }
          },
          "colorscale": {
           "diverging": [
            [
             0,
             "#8e0152"
            ],
            [
             0.1,
             "#c51b7d"
            ],
            [
             0.2,
             "#de77ae"
            ],
            [
             0.3,
             "#f1b6da"
            ],
            [
             0.4,
             "#fde0ef"
            ],
            [
             0.5,
             "#f7f7f7"
            ],
            [
             0.6,
             "#e6f5d0"
            ],
            [
             0.7,
             "#b8e186"
            ],
            [
             0.8,
             "#7fbc41"
            ],
            [
             0.9,
             "#4d9221"
            ],
            [
             1,
             "#276419"
            ]
           ],
           "sequential": [
            [
             0,
             "#0d0887"
            ],
            [
             0.1111111111111111,
             "#46039f"
            ],
            [
             0.2222222222222222,
             "#7201a8"
            ],
            [
             0.3333333333333333,
             "#9c179e"
            ],
            [
             0.4444444444444444,
             "#bd3786"
            ],
            [
             0.5555555555555556,
             "#d8576b"
            ],
            [
             0.6666666666666666,
             "#ed7953"
            ],
            [
             0.7777777777777778,
             "#fb9f3a"
            ],
            [
             0.8888888888888888,
             "#fdca26"
            ],
            [
             1,
             "#f0f921"
            ]
           ],
           "sequentialminus": [
            [
             0,
             "#0d0887"
            ],
            [
             0.1111111111111111,
             "#46039f"
            ],
            [
             0.2222222222222222,
             "#7201a8"
            ],
            [
             0.3333333333333333,
             "#9c179e"
            ],
            [
             0.4444444444444444,
             "#bd3786"
            ],
            [
             0.5555555555555556,
             "#d8576b"
            ],
            [
             0.6666666666666666,
             "#ed7953"
            ],
            [
             0.7777777777777778,
             "#fb9f3a"
            ],
            [
             0.8888888888888888,
             "#fdca26"
            ],
            [
             1,
             "#f0f921"
            ]
           ]
          },
          "colorway": [
           "#636efa",
           "#EF553B",
           "#00cc96",
           "#ab63fa",
           "#FFA15A",
           "#19d3f3",
           "#FF6692",
           "#B6E880",
           "#FF97FF",
           "#FECB52"
          ],
          "font": {
           "color": "#2a3f5f"
          },
          "geo": {
           "bgcolor": "white",
           "lakecolor": "white",
           "landcolor": "#E5ECF6",
           "showlakes": true,
           "showland": true,
           "subunitcolor": "white"
          },
          "hoverlabel": {
           "align": "left"
          },
          "hovermode": "closest",
          "mapbox": {
           "style": "light"
          },
          "paper_bgcolor": "white",
          "plot_bgcolor": "#E5ECF6",
          "polar": {
           "angularaxis": {
            "gridcolor": "white",
            "linecolor": "white",
            "ticks": ""
           },
           "bgcolor": "#E5ECF6",
           "radialaxis": {
            "gridcolor": "white",
            "linecolor": "white",
            "ticks": ""
           }
          },
          "scene": {
           "xaxis": {
            "backgroundcolor": "#E5ECF6",
            "gridcolor": "white",
            "gridwidth": 2,
            "linecolor": "white",
            "showbackground": true,
            "ticks": "",
            "zerolinecolor": "white"
           },
           "yaxis": {
            "backgroundcolor": "#E5ECF6",
            "gridcolor": "white",
            "gridwidth": 2,
            "linecolor": "white",
            "showbackground": true,
            "ticks": "",
            "zerolinecolor": "white"
           },
           "zaxis": {
            "backgroundcolor": "#E5ECF6",
            "gridcolor": "white",
            "gridwidth": 2,
            "linecolor": "white",
            "showbackground": true,
            "ticks": "",
            "zerolinecolor": "white"
           }
          },
          "shapedefaults": {
           "line": {
            "color": "#2a3f5f"
           }
          },
          "ternary": {
           "aaxis": {
            "gridcolor": "white",
            "linecolor": "white",
            "ticks": ""
           },
           "baxis": {
            "gridcolor": "white",
            "linecolor": "white",
            "ticks": ""
           },
           "bgcolor": "#E5ECF6",
           "caxis": {
            "gridcolor": "white",
            "linecolor": "white",
            "ticks": ""
           }
          },
          "title": {
           "x": 0.05
          },
          "xaxis": {
           "automargin": true,
           "gridcolor": "white",
           "linecolor": "white",
           "ticks": "",
           "title": {
            "standoff": 15
           },
           "zerolinecolor": "white",
           "zerolinewidth": 2
          },
          "yaxis": {
           "automargin": true,
           "gridcolor": "white",
           "linecolor": "white",
           "ticks": "",
           "title": {
            "standoff": 15
           },
           "zerolinecolor": "white",
           "zerolinewidth": 2
          }
         }
        },
        "xaxis": {
         "anchor": "y",
         "domain": [
          0,
          0.31999999999999995
         ],
         "title": {
          "text": "Date"
         }
        },
        "xaxis2": {
         "anchor": "y2",
         "domain": [
          0.33999999999999997,
          0.6599999999999999
         ],
         "matches": "x",
         "title": {
          "text": "Date"
         }
        },
        "xaxis3": {
         "anchor": "y3",
         "domain": [
          0.6799999999999999,
          0.9999999999999999
         ],
         "matches": "x",
         "title": {
          "text": "Date"
         }
        },
        "yaxis": {
         "anchor": "x",
         "domain": [
          0,
          1
         ],
         "gridcolor": "lightgrey",
         "linecolor": "black",
         "mirror": true,
         "showline": true,
         "title": {
          "text": ""
         },
         "visible": false
        },
        "yaxis2": {
         "anchor": "x2",
         "domain": [
          0,
          1
         ],
         "gridcolor": "lightgrey",
         "linecolor": "black",
         "mirror": true,
         "showline": true,
         "showticklabels": false,
         "title": {
          "text": ""
         },
         "visible": false
        },
        "yaxis3": {
         "anchor": "x3",
         "domain": [
          0,
          1
         ],
         "gridcolor": "lightgrey",
         "linecolor": "black",
         "mirror": true,
         "showline": true,
         "showticklabels": false,
         "title": {
          "text": ""
         },
         "visible": false
        }
       }
      }
     },
     "metadata": {},
     "output_type": "display_data"
    }
   ],
   "source": [
    "fig = px.line(df_baggage, y=\"Baggage\", x = 'Date',color=\"Airline\", facet_col=\"Airline\", color_discrete_sequence=px.colors.qualitative.Pastel)\n",
    "fig.update_layout(plot_bgcolor='white')\n",
    "fig.update_yaxes(\n",
    "    mirror=True,\n",
    "    ticks=None,\n",
    "    showline=True,\n",
    "    linecolor='black',\n",
    "    gridcolor='lightgrey',\n",
    "    title='',\n",
    "    matches=None,\n",
    "    visible=False\n",
    ")\n",
    "fig.show()"
   ]
  },
  {
   "cell_type": "code",
   "execution_count": 39,
   "metadata": {},
   "outputs": [
    {
     "data": {
      "application/vnd.plotly.v1+json": {
       "config": {
        "plotlyServerURL": "https://plot.ly"
       },
       "data": [
        {
         "hovertemplate": "Airline=American Eagle<br>Year=2004<br>Month=%{x}<br>Baggage=%{y}<extra></extra>",
         "legendgroup": "American Eagle",
         "line": {
          "color": "rgb(102, 197, 204)",
          "dash": "solid"
         },
         "marker": {
          "symbol": "circle"
         },
         "mode": "lines",
         "name": "American Eagle",
         "orientation": "v",
         "showlegend": true,
         "type": "scatter",
         "x": [
          1,
          2,
          3,
          4,
          5,
          6,
          7,
          8,
          9,
          10,
          11,
          12
         ],
         "xaxis": "x",
         "y": [
          12502,
          8977,
          10289,
          8095,
          10618,
          13684,
          14121,
          12732,
          7895,
          9444,
          9582,
          17555
         ],
         "yaxis": "y"
        },
        {
         "hovertemplate": "Airline=American Eagle<br>Year=2005<br>Month=%{x}<br>Baggage=%{y}<extra></extra>",
         "legendgroup": "American Eagle",
         "line": {
          "color": "rgb(102, 197, 204)",
          "dash": "solid"
         },
         "marker": {
          "symbol": "circle"
         },
         "mode": "lines",
         "name": "American Eagle",
         "orientation": "v",
         "showlegend": false,
         "type": "scatter",
         "x": [
          1,
          2,
          3,
          4,
          5,
          6,
          7,
          8,
          9,
          10,
          11,
          12
         ],
         "xaxis": "x",
         "y": [
          15361,
          9561,
          13002,
          11071,
          12300,
          16373,
          19701,
          16666,
          12636,
          14258,
          14440,
          24696
         ],
         "yaxis": "y"
        },
        {
         "hovertemplate": "Airline=American Eagle<br>Year=2006<br>Month=%{x}<br>Baggage=%{y}<extra></extra>",
         "legendgroup": "American Eagle",
         "line": {
          "color": "rgb(102, 197, 204)",
          "dash": "solid"
         },
         "marker": {
          "symbol": "circle"
         },
         "mode": "lines",
         "name": "American Eagle",
         "orientation": "v",
         "showlegend": false,
         "type": "scatter",
         "x": [
          1,
          2,
          3,
          4,
          5,
          6,
          7,
          8,
          9,
          10,
          11,
          12
         ],
         "xaxis": "x",
         "y": [
          19255,
          17319,
          20344,
          19726,
          21248,
          22767,
          23184,
          27630,
          25922,
          24699,
          18954,
          28556
         ],
         "yaxis": "y"
        },
        {
         "hovertemplate": "Airline=American Eagle<br>Year=2007<br>Month=%{x}<br>Baggage=%{y}<extra></extra>",
         "legendgroup": "American Eagle",
         "line": {
          "color": "rgb(102, 197, 204)",
          "dash": "solid"
         },
         "marker": {
          "symbol": "circle"
         },
         "mode": "lines",
         "name": "American Eagle",
         "orientation": "v",
         "showlegend": false,
         "type": "scatter",
         "x": [
          1,
          2,
          3,
          4,
          5,
          6,
          7,
          8,
          9,
          10,
          11,
          12
         ],
         "xaxis": "x",
         "y": [
          24190,
          20753,
          21928,
          19483,
          19209,
          26213,
          24993,
          23156,
          14816,
          15351,
          13946,
          23762
         ],
         "yaxis": "y"
        },
        {
         "hovertemplate": "Airline=American Eagle<br>Year=2008<br>Month=%{x}<br>Baggage=%{y}<extra></extra>",
         "legendgroup": "American Eagle",
         "line": {
          "color": "rgb(102, 197, 204)",
          "dash": "solid"
         },
         "marker": {
          "symbol": "circle"
         },
         "mode": "lines",
         "name": "American Eagle",
         "orientation": "v",
         "showlegend": false,
         "type": "scatter",
         "x": [
          1,
          2,
          3,
          4,
          5,
          6,
          7,
          8,
          9,
          10,
          11,
          12
         ],
         "xaxis": "x",
         "y": [
          17507,
          15795,
          17782,
          14566,
          13522,
          15620,
          12885,
          12148,
          8729,
          9110,
          7591,
          15475
         ],
         "yaxis": "y"
        },
        {
         "hovertemplate": "Airline=American Eagle<br>Year=2009<br>Month=%{x}<br>Baggage=%{y}<extra></extra>",
         "legendgroup": "American Eagle",
         "line": {
          "color": "rgb(102, 197, 204)",
          "dash": "solid"
         },
         "marker": {
          "symbol": "circle"
         },
         "mode": "lines",
         "name": "American Eagle",
         "orientation": "v",
         "showlegend": false,
         "type": "scatter",
         "x": [
          1,
          2,
          3,
          4,
          5,
          6,
          7,
          8,
          9,
          10,
          11,
          12
         ],
         "xaxis": "x",
         "y": [
          10231,
          7538,
          10093,
          10547,
          10279,
          13220,
          11625,
          10832,
          7052,
          10000,
          7081,
          12496
         ],
         "yaxis": "y"
        },
        {
         "hovertemplate": "Airline=American Eagle<br>Year=2010<br>Month=%{x}<br>Baggage=%{y}<extra></extra>",
         "legendgroup": "American Eagle",
         "line": {
          "color": "rgb(102, 197, 204)",
          "dash": "solid"
         },
         "marker": {
          "symbol": "circle"
         },
         "mode": "lines",
         "name": "American Eagle",
         "orientation": "v",
         "showlegend": false,
         "type": "scatter",
         "x": [
          1,
          2,
          3,
          4,
          5,
          6,
          7,
          8,
          9,
          10,
          11,
          12
         ],
         "xaxis": "x",
         "y": [
          11059,
          8973,
          9762,
          7864,
          9399,
          10431,
          9840,
          9583,
          8324,
          8498,
          8067,
          11526
         ],
         "yaxis": "y"
        },
        {
         "hovertemplate": "Airline=Hawaiian<br>Year=2004<br>Month=%{x}<br>Baggage=%{y}<extra></extra>",
         "legendgroup": "Hawaiian",
         "line": {
          "color": "rgb(246, 207, 113)",
          "dash": "solid"
         },
         "marker": {
          "symbol": "circle"
         },
         "mode": "lines",
         "name": "Hawaiian",
         "orientation": "v",
         "showlegend": true,
         "type": "scatter",
         "x": [
          1,
          2,
          3,
          4,
          5,
          6,
          7,
          8,
          9,
          10,
          11,
          12
         ],
         "xaxis": "x2",
         "y": [
          1717,
          1599,
          1327,
          1350,
          1304,
          1697,
          1398,
          1259,
          1033,
          1176,
          1084,
          1146
         ],
         "yaxis": "y2"
        },
        {
         "hovertemplate": "Airline=Hawaiian<br>Year=2005<br>Month=%{x}<br>Baggage=%{y}<extra></extra>",
         "legendgroup": "Hawaiian",
         "line": {
          "color": "rgb(246, 207, 113)",
          "dash": "solid"
         },
         "marker": {
          "symbol": "circle"
         },
         "mode": "lines",
         "name": "Hawaiian",
         "orientation": "v",
         "showlegend": false,
         "type": "scatter",
         "x": [
          1,
          2,
          3,
          4,
          5,
          6,
          7,
          8,
          9,
          10,
          11,
          12
         ],
         "xaxis": "x2",
         "y": [
          1206,
          1154,
          1541,
          1348,
          1408,
          1625,
          1906,
          1726,
          1236,
          1443,
          1286,
          1629
         ],
         "yaxis": "y2"
        },
        {
         "hovertemplate": "Airline=Hawaiian<br>Year=2006<br>Month=%{x}<br>Baggage=%{y}<extra></extra>",
         "legendgroup": "Hawaiian",
         "line": {
          "color": "rgb(246, 207, 113)",
          "dash": "solid"
         },
         "marker": {
          "symbol": "circle"
         },
         "mode": "lines",
         "name": "Hawaiian",
         "orientation": "v",
         "showlegend": false,
         "type": "scatter",
         "x": [
          1,
          2,
          3,
          4,
          5,
          6,
          7,
          8,
          9,
          10,
          11,
          12
         ],
         "xaxis": "x2",
         "y": [
          1461,
          1388,
          2049,
          1522,
          1305,
          1411,
          1530,
          1733,
          1421,
          1757,
          1790,
          2252
         ],
         "yaxis": "y2"
        },
        {
         "hovertemplate": "Airline=Hawaiian<br>Year=2007<br>Month=%{x}<br>Baggage=%{y}<extra></extra>",
         "legendgroup": "Hawaiian",
         "line": {
          "color": "rgb(246, 207, 113)",
          "dash": "solid"
         },
         "marker": {
          "symbol": "circle"
         },
         "mode": "lines",
         "name": "Hawaiian",
         "orientation": "v",
         "showlegend": false,
         "type": "scatter",
         "x": [
          1,
          2,
          3,
          4,
          5,
          6,
          7,
          8,
          9,
          10,
          11,
          12
         ],
         "xaxis": "x2",
         "y": [
          2046,
          1922,
          2331,
          1583,
          1601,
          2163,
          2529,
          2013,
          2064,
          2069,
          2086,
          1962
         ],
         "yaxis": "y2"
        },
        {
         "hovertemplate": "Airline=Hawaiian<br>Year=2008<br>Month=%{x}<br>Baggage=%{y}<extra></extra>",
         "legendgroup": "Hawaiian",
         "line": {
          "color": "rgb(246, 207, 113)",
          "dash": "solid"
         },
         "marker": {
          "symbol": "circle"
         },
         "mode": "lines",
         "name": "Hawaiian",
         "orientation": "v",
         "showlegend": false,
         "type": "scatter",
         "x": [
          1,
          2,
          3,
          4,
          5,
          6,
          7,
          8,
          9,
          10,
          11,
          12
         ],
         "xaxis": "x2",
         "y": [
          1795,
          1273,
          1511,
          2449,
          2696,
          2618,
          2791,
          2121,
          1428,
          1556,
          1532,
          1803
         ],
         "yaxis": "y2"
        },
        {
         "hovertemplate": "Airline=Hawaiian<br>Year=2009<br>Month=%{x}<br>Baggage=%{y}<extra></extra>",
         "legendgroup": "Hawaiian",
         "line": {
          "color": "rgb(246, 207, 113)",
          "dash": "solid"
         },
         "marker": {
          "symbol": "circle"
         },
         "mode": "lines",
         "name": "Hawaiian",
         "orientation": "v",
         "showlegend": false,
         "type": "scatter",
         "x": [
          1,
          2,
          3,
          4,
          5,
          6,
          7,
          8,
          9,
          10,
          11,
          12
         ],
         "xaxis": "x2",
         "y": [
          1303,
          1389,
          1323,
          1300,
          1251,
          1381,
          1573,
          1604,
          1313,
          1319,
          1140,
          1179
         ],
         "yaxis": "y2"
        },
        {
         "hovertemplate": "Airline=Hawaiian<br>Year=2010<br>Month=%{x}<br>Baggage=%{y}<extra></extra>",
         "legendgroup": "Hawaiian",
         "line": {
          "color": "rgb(246, 207, 113)",
          "dash": "solid"
         },
         "marker": {
          "symbol": "circle"
         },
         "mode": "lines",
         "name": "Hawaiian",
         "orientation": "v",
         "showlegend": false,
         "type": "scatter",
         "x": [
          1,
          2,
          3,
          4,
          5,
          6,
          7,
          8,
          9,
          10,
          11,
          12
         ],
         "xaxis": "x2",
         "y": [
          1326,
          1200,
          1180,
          1076,
          1264,
          1360,
          1386,
          1283,
          1912,
          2265,
          2020,
          2705
         ],
         "yaxis": "y2"
        },
        {
         "hovertemplate": "Airline=United<br>Year=2004<br>Month=%{x}<br>Baggage=%{y}<extra></extra>",
         "legendgroup": "United",
         "line": {
          "color": "rgb(248, 156, 116)",
          "dash": "solid"
         },
         "marker": {
          "symbol": "circle"
         },
         "mode": "lines",
         "name": "United",
         "orientation": "v",
         "showlegend": true,
         "type": "scatter",
         "x": [
          1,
          2,
          3,
          4,
          5,
          6,
          7,
          8,
          9,
          10,
          11,
          12
         ],
         "xaxis": "x3",
         "y": [
          25015,
          16660,
          19318,
          15638,
          19302,
          21892,
          26666,
          25510,
          13305,
          17736,
          15812,
          32458
         ],
         "yaxis": "y3"
        },
        {
         "hovertemplate": "Airline=United<br>Year=2005<br>Month=%{x}<br>Baggage=%{y}<extra></extra>",
         "legendgroup": "United",
         "line": {
          "color": "rgb(248, 156, 116)",
          "dash": "solid"
         },
         "marker": {
          "symbol": "circle"
         },
         "mode": "lines",
         "name": "United",
         "orientation": "v",
         "showlegend": false,
         "type": "scatter",
         "x": [
          1,
          2,
          3,
          4,
          5,
          6,
          7,
          8,
          9,
          10,
          11,
          12
         ],
         "xaxis": "x3",
         "y": [
          25861,
          18647,
          22264,
          14262,
          19977,
          28024,
          23513,
          21000,
          14138,
          16628,
          15254,
          29235
         ],
         "yaxis": "y3"
        },
        {
         "hovertemplate": "Airline=United<br>Year=2006<br>Month=%{x}<br>Baggage=%{y}<extra></extra>",
         "legendgroup": "United",
         "line": {
          "color": "rgb(248, 156, 116)",
          "dash": "solid"
         },
         "marker": {
          "symbol": "circle"
         },
         "mode": "lines",
         "name": "United",
         "orientation": "v",
         "showlegend": false,
         "type": "scatter",
         "x": [
          1,
          2,
          3,
          4,
          5,
          6,
          7,
          8,
          9,
          10,
          11,
          12
         ],
         "xaxis": "x3",
         "y": [
          23232,
          18551,
          22246,
          18019,
          19996,
          27588,
          30325,
          39123,
          37039,
          35640,
          28896,
          40483
         ],
         "yaxis": "y3"
        },
        {
         "hovertemplate": "Airline=United<br>Year=2007<br>Month=%{x}<br>Baggage=%{y}<extra></extra>",
         "legendgroup": "United",
         "line": {
          "color": "rgb(248, 156, 116)",
          "dash": "solid"
         },
         "marker": {
          "symbol": "circle"
         },
         "mode": "lines",
         "name": "United",
         "orientation": "v",
         "showlegend": false,
         "type": "scatter",
         "x": [
          1,
          2,
          3,
          4,
          5,
          6,
          7,
          8,
          9,
          10,
          11,
          12
         ],
         "xaxis": "x3",
         "y": [
          41787,
          34581,
          33920,
          25667,
          25524,
          31242,
          30356,
          29331,
          18033,
          20147,
          16927,
          33269
         ],
         "yaxis": "y3"
        },
        {
         "hovertemplate": "Airline=United<br>Year=2008<br>Month=%{x}<br>Baggage=%{y}<extra></extra>",
         "legendgroup": "United",
         "line": {
          "color": "rgb(248, 156, 116)",
          "dash": "solid"
         },
         "marker": {
          "symbol": "circle"
         },
         "mode": "lines",
         "name": "United",
         "orientation": "v",
         "showlegend": false,
         "type": "scatter",
         "x": [
          1,
          2,
          3,
          4,
          5,
          6,
          7,
          8,
          9,
          10,
          11,
          12
         ],
         "xaxis": "x3",
         "y": [
          26113,
          22059,
          23932,
          22994,
          23217,
          29690,
          26604,
          32827,
          17551,
          15429,
          13138,
          29803
         ],
         "yaxis": "y3"
        },
        {
         "hovertemplate": "Airline=United<br>Year=2009<br>Month=%{x}<br>Baggage=%{y}<extra></extra>",
         "legendgroup": "United",
         "line": {
          "color": "rgb(248, 156, 116)",
          "dash": "solid"
         },
         "marker": {
          "symbol": "circle"
         },
         "mode": "lines",
         "name": "United",
         "orientation": "v",
         "showlegend": false,
         "type": "scatter",
         "x": [
          1,
          2,
          3,
          4,
          5,
          6,
          7,
          8,
          9,
          10,
          11,
          12
         ],
         "xaxis": "x3",
         "y": [
          19653,
          12627,
          16285,
          13517,
          15083,
          22844,
          19259,
          18646,
          11270,
          14513,
          9814,
          22845
         ],
         "yaxis": "y3"
        },
        {
         "hovertemplate": "Airline=United<br>Year=2010<br>Month=%{x}<br>Baggage=%{y}<extra></extra>",
         "legendgroup": "United",
         "line": {
          "color": "rgb(248, 156, 116)",
          "dash": "solid"
         },
         "marker": {
          "symbol": "circle"
         },
         "mode": "lines",
         "name": "United",
         "orientation": "v",
         "showlegend": false,
         "type": "scatter",
         "x": [
          1,
          2,
          3,
          4,
          5,
          6,
          7,
          8,
          9,
          10,
          11,
          12
         ],
         "xaxis": "x3",
         "y": [
          17307,
          13269,
          14782,
          11121,
          11947,
          15784,
          14309,
          14099,
          9435,
          9565,
          8597,
          14415
         ],
         "yaxis": "y3"
        }
       ],
       "layout": {
        "annotations": [
         {
          "font": {},
          "showarrow": false,
          "text": "Airline=American Eagle",
          "x": 0.15999999999999998,
          "xanchor": "center",
          "xref": "paper",
          "y": 1,
          "yanchor": "bottom",
          "yref": "paper"
         },
         {
          "font": {},
          "showarrow": false,
          "text": "Airline=Hawaiian",
          "x": 0.49999999999999994,
          "xanchor": "center",
          "xref": "paper",
          "y": 1,
          "yanchor": "bottom",
          "yref": "paper"
         },
         {
          "font": {},
          "showarrow": false,
          "text": "Airline=United",
          "x": 0.8399999999999999,
          "xanchor": "center",
          "xref": "paper",
          "y": 1,
          "yanchor": "bottom",
          "yref": "paper"
         }
        ],
        "legend": {
         "title": {
          "text": "Airline"
         },
         "tracegroupgap": 0
        },
        "margin": {
         "t": 60
        },
        "plot_bgcolor": "white",
        "template": {
         "data": {
          "bar": [
           {
            "error_x": {
             "color": "#2a3f5f"
            },
            "error_y": {
             "color": "#2a3f5f"
            },
            "marker": {
             "line": {
              "color": "#E5ECF6",
              "width": 0.5
             },
             "pattern": {
              "fillmode": "overlay",
              "size": 10,
              "solidity": 0.2
             }
            },
            "type": "bar"
           }
          ],
          "barpolar": [
           {
            "marker": {
             "line": {
              "color": "#E5ECF6",
              "width": 0.5
             },
             "pattern": {
              "fillmode": "overlay",
              "size": 10,
              "solidity": 0.2
             }
            },
            "type": "barpolar"
           }
          ],
          "carpet": [
           {
            "aaxis": {
             "endlinecolor": "#2a3f5f",
             "gridcolor": "white",
             "linecolor": "white",
             "minorgridcolor": "white",
             "startlinecolor": "#2a3f5f"
            },
            "baxis": {
             "endlinecolor": "#2a3f5f",
             "gridcolor": "white",
             "linecolor": "white",
             "minorgridcolor": "white",
             "startlinecolor": "#2a3f5f"
            },
            "type": "carpet"
           }
          ],
          "choropleth": [
           {
            "colorbar": {
             "outlinewidth": 0,
             "ticks": ""
            },
            "type": "choropleth"
           }
          ],
          "contour": [
           {
            "colorbar": {
             "outlinewidth": 0,
             "ticks": ""
            },
            "colorscale": [
             [
              0,
              "#0d0887"
             ],
             [
              0.1111111111111111,
              "#46039f"
             ],
             [
              0.2222222222222222,
              "#7201a8"
             ],
             [
              0.3333333333333333,
              "#9c179e"
             ],
             [
              0.4444444444444444,
              "#bd3786"
             ],
             [
              0.5555555555555556,
              "#d8576b"
             ],
             [
              0.6666666666666666,
              "#ed7953"
             ],
             [
              0.7777777777777778,
              "#fb9f3a"
             ],
             [
              0.8888888888888888,
              "#fdca26"
             ],
             [
              1,
              "#f0f921"
             ]
            ],
            "type": "contour"
           }
          ],
          "contourcarpet": [
           {
            "colorbar": {
             "outlinewidth": 0,
             "ticks": ""
            },
            "type": "contourcarpet"
           }
          ],
          "heatmap": [
           {
            "colorbar": {
             "outlinewidth": 0,
             "ticks": ""
            },
            "colorscale": [
             [
              0,
              "#0d0887"
             ],
             [
              0.1111111111111111,
              "#46039f"
             ],
             [
              0.2222222222222222,
              "#7201a8"
             ],
             [
              0.3333333333333333,
              "#9c179e"
             ],
             [
              0.4444444444444444,
              "#bd3786"
             ],
             [
              0.5555555555555556,
              "#d8576b"
             ],
             [
              0.6666666666666666,
              "#ed7953"
             ],
             [
              0.7777777777777778,
              "#fb9f3a"
             ],
             [
              0.8888888888888888,
              "#fdca26"
             ],
             [
              1,
              "#f0f921"
             ]
            ],
            "type": "heatmap"
           }
          ],
          "heatmapgl": [
           {
            "colorbar": {
             "outlinewidth": 0,
             "ticks": ""
            },
            "colorscale": [
             [
              0,
              "#0d0887"
             ],
             [
              0.1111111111111111,
              "#46039f"
             ],
             [
              0.2222222222222222,
              "#7201a8"
             ],
             [
              0.3333333333333333,
              "#9c179e"
             ],
             [
              0.4444444444444444,
              "#bd3786"
             ],
             [
              0.5555555555555556,
              "#d8576b"
             ],
             [
              0.6666666666666666,
              "#ed7953"
             ],
             [
              0.7777777777777778,
              "#fb9f3a"
             ],
             [
              0.8888888888888888,
              "#fdca26"
             ],
             [
              1,
              "#f0f921"
             ]
            ],
            "type": "heatmapgl"
           }
          ],
          "histogram": [
           {
            "marker": {
             "pattern": {
              "fillmode": "overlay",
              "size": 10,
              "solidity": 0.2
             }
            },
            "type": "histogram"
           }
          ],
          "histogram2d": [
           {
            "colorbar": {
             "outlinewidth": 0,
             "ticks": ""
            },
            "colorscale": [
             [
              0,
              "#0d0887"
             ],
             [
              0.1111111111111111,
              "#46039f"
             ],
             [
              0.2222222222222222,
              "#7201a8"
             ],
             [
              0.3333333333333333,
              "#9c179e"
             ],
             [
              0.4444444444444444,
              "#bd3786"
             ],
             [
              0.5555555555555556,
              "#d8576b"
             ],
             [
              0.6666666666666666,
              "#ed7953"
             ],
             [
              0.7777777777777778,
              "#fb9f3a"
             ],
             [
              0.8888888888888888,
              "#fdca26"
             ],
             [
              1,
              "#f0f921"
             ]
            ],
            "type": "histogram2d"
           }
          ],
          "histogram2dcontour": [
           {
            "colorbar": {
             "outlinewidth": 0,
             "ticks": ""
            },
            "colorscale": [
             [
              0,
              "#0d0887"
             ],
             [
              0.1111111111111111,
              "#46039f"
             ],
             [
              0.2222222222222222,
              "#7201a8"
             ],
             [
              0.3333333333333333,
              "#9c179e"
             ],
             [
              0.4444444444444444,
              "#bd3786"
             ],
             [
              0.5555555555555556,
              "#d8576b"
             ],
             [
              0.6666666666666666,
              "#ed7953"
             ],
             [
              0.7777777777777778,
              "#fb9f3a"
             ],
             [
              0.8888888888888888,
              "#fdca26"
             ],
             [
              1,
              "#f0f921"
             ]
            ],
            "type": "histogram2dcontour"
           }
          ],
          "mesh3d": [
           {
            "colorbar": {
             "outlinewidth": 0,
             "ticks": ""
            },
            "type": "mesh3d"
           }
          ],
          "parcoords": [
           {
            "line": {
             "colorbar": {
              "outlinewidth": 0,
              "ticks": ""
             }
            },
            "type": "parcoords"
           }
          ],
          "pie": [
           {
            "automargin": true,
            "type": "pie"
           }
          ],
          "scatter": [
           {
            "fillpattern": {
             "fillmode": "overlay",
             "size": 10,
             "solidity": 0.2
            },
            "type": "scatter"
           }
          ],
          "scatter3d": [
           {
            "line": {
             "colorbar": {
              "outlinewidth": 0,
              "ticks": ""
             }
            },
            "marker": {
             "colorbar": {
              "outlinewidth": 0,
              "ticks": ""
             }
            },
            "type": "scatter3d"
           }
          ],
          "scattercarpet": [
           {
            "marker": {
             "colorbar": {
              "outlinewidth": 0,
              "ticks": ""
             }
            },
            "type": "scattercarpet"
           }
          ],
          "scattergeo": [
           {
            "marker": {
             "colorbar": {
              "outlinewidth": 0,
              "ticks": ""
             }
            },
            "type": "scattergeo"
           }
          ],
          "scattergl": [
           {
            "marker": {
             "colorbar": {
              "outlinewidth": 0,
              "ticks": ""
             }
            },
            "type": "scattergl"
           }
          ],
          "scattermapbox": [
           {
            "marker": {
             "colorbar": {
              "outlinewidth": 0,
              "ticks": ""
             }
            },
            "type": "scattermapbox"
           }
          ],
          "scatterpolar": [
           {
            "marker": {
             "colorbar": {
              "outlinewidth": 0,
              "ticks": ""
             }
            },
            "type": "scatterpolar"
           }
          ],
          "scatterpolargl": [
           {
            "marker": {
             "colorbar": {
              "outlinewidth": 0,
              "ticks": ""
             }
            },
            "type": "scatterpolargl"
           }
          ],
          "scatterternary": [
           {
            "marker": {
             "colorbar": {
              "outlinewidth": 0,
              "ticks": ""
             }
            },
            "type": "scatterternary"
           }
          ],
          "surface": [
           {
            "colorbar": {
             "outlinewidth": 0,
             "ticks": ""
            },
            "colorscale": [
             [
              0,
              "#0d0887"
             ],
             [
              0.1111111111111111,
              "#46039f"
             ],
             [
              0.2222222222222222,
              "#7201a8"
             ],
             [
              0.3333333333333333,
              "#9c179e"
             ],
             [
              0.4444444444444444,
              "#bd3786"
             ],
             [
              0.5555555555555556,
              "#d8576b"
             ],
             [
              0.6666666666666666,
              "#ed7953"
             ],
             [
              0.7777777777777778,
              "#fb9f3a"
             ],
             [
              0.8888888888888888,
              "#fdca26"
             ],
             [
              1,
              "#f0f921"
             ]
            ],
            "type": "surface"
           }
          ],
          "table": [
           {
            "cells": {
             "fill": {
              "color": "#EBF0F8"
             },
             "line": {
              "color": "white"
             }
            },
            "header": {
             "fill": {
              "color": "#C8D4E3"
             },
             "line": {
              "color": "white"
             }
            },
            "type": "table"
           }
          ]
         },
         "layout": {
          "annotationdefaults": {
           "arrowcolor": "#2a3f5f",
           "arrowhead": 0,
           "arrowwidth": 1
          },
          "autotypenumbers": "strict",
          "coloraxis": {
           "colorbar": {
            "outlinewidth": 0,
            "ticks": ""
           }
          },
          "colorscale": {
           "diverging": [
            [
             0,
             "#8e0152"
            ],
            [
             0.1,
             "#c51b7d"
            ],
            [
             0.2,
             "#de77ae"
            ],
            [
             0.3,
             "#f1b6da"
            ],
            [
             0.4,
             "#fde0ef"
            ],
            [
             0.5,
             "#f7f7f7"
            ],
            [
             0.6,
             "#e6f5d0"
            ],
            [
             0.7,
             "#b8e186"
            ],
            [
             0.8,
             "#7fbc41"
            ],
            [
             0.9,
             "#4d9221"
            ],
            [
             1,
             "#276419"
            ]
           ],
           "sequential": [
            [
             0,
             "#0d0887"
            ],
            [
             0.1111111111111111,
             "#46039f"
            ],
            [
             0.2222222222222222,
             "#7201a8"
            ],
            [
             0.3333333333333333,
             "#9c179e"
            ],
            [
             0.4444444444444444,
             "#bd3786"
            ],
            [
             0.5555555555555556,
             "#d8576b"
            ],
            [
             0.6666666666666666,
             "#ed7953"
            ],
            [
             0.7777777777777778,
             "#fb9f3a"
            ],
            [
             0.8888888888888888,
             "#fdca26"
            ],
            [
             1,
             "#f0f921"
            ]
           ],
           "sequentialminus": [
            [
             0,
             "#0d0887"
            ],
            [
             0.1111111111111111,
             "#46039f"
            ],
            [
             0.2222222222222222,
             "#7201a8"
            ],
            [
             0.3333333333333333,
             "#9c179e"
            ],
            [
             0.4444444444444444,
             "#bd3786"
            ],
            [
             0.5555555555555556,
             "#d8576b"
            ],
            [
             0.6666666666666666,
             "#ed7953"
            ],
            [
             0.7777777777777778,
             "#fb9f3a"
            ],
            [
             0.8888888888888888,
             "#fdca26"
            ],
            [
             1,
             "#f0f921"
            ]
           ]
          },
          "colorway": [
           "#636efa",
           "#EF553B",
           "#00cc96",
           "#ab63fa",
           "#FFA15A",
           "#19d3f3",
           "#FF6692",
           "#B6E880",
           "#FF97FF",
           "#FECB52"
          ],
          "font": {
           "color": "#2a3f5f"
          },
          "geo": {
           "bgcolor": "white",
           "lakecolor": "white",
           "landcolor": "#E5ECF6",
           "showlakes": true,
           "showland": true,
           "subunitcolor": "white"
          },
          "hoverlabel": {
           "align": "left"
          },
          "hovermode": "closest",
          "mapbox": {
           "style": "light"
          },
          "paper_bgcolor": "white",
          "plot_bgcolor": "#E5ECF6",
          "polar": {
           "angularaxis": {
            "gridcolor": "white",
            "linecolor": "white",
            "ticks": ""
           },
           "bgcolor": "#E5ECF6",
           "radialaxis": {
            "gridcolor": "white",
            "linecolor": "white",
            "ticks": ""
           }
          },
          "scene": {
           "xaxis": {
            "backgroundcolor": "#E5ECF6",
            "gridcolor": "white",
            "gridwidth": 2,
            "linecolor": "white",
            "showbackground": true,
            "ticks": "",
            "zerolinecolor": "white"
           },
           "yaxis": {
            "backgroundcolor": "#E5ECF6",
            "gridcolor": "white",
            "gridwidth": 2,
            "linecolor": "white",
            "showbackground": true,
            "ticks": "",
            "zerolinecolor": "white"
           },
           "zaxis": {
            "backgroundcolor": "#E5ECF6",
            "gridcolor": "white",
            "gridwidth": 2,
            "linecolor": "white",
            "showbackground": true,
            "ticks": "",
            "zerolinecolor": "white"
           }
          },
          "shapedefaults": {
           "line": {
            "color": "#2a3f5f"
           }
          },
          "ternary": {
           "aaxis": {
            "gridcolor": "white",
            "linecolor": "white",
            "ticks": ""
           },
           "baxis": {
            "gridcolor": "white",
            "linecolor": "white",
            "ticks": ""
           },
           "bgcolor": "#E5ECF6",
           "caxis": {
            "gridcolor": "white",
            "linecolor": "white",
            "ticks": ""
           }
          },
          "title": {
           "x": 0.05
          },
          "xaxis": {
           "automargin": true,
           "gridcolor": "white",
           "linecolor": "white",
           "ticks": "",
           "title": {
            "standoff": 15
           },
           "zerolinecolor": "white",
           "zerolinewidth": 2
          },
          "yaxis": {
           "automargin": true,
           "gridcolor": "white",
           "linecolor": "white",
           "ticks": "",
           "title": {
            "standoff": 15
           },
           "zerolinecolor": "white",
           "zerolinewidth": 2
          }
         }
        },
        "xaxis": {
         "anchor": "y",
         "domain": [
          0,
          0.31999999999999995
         ],
         "dtick": 1,
         "title": {
          "text": "Month"
         }
        },
        "xaxis2": {
         "anchor": "y2",
         "domain": [
          0.33999999999999997,
          0.6599999999999999
         ],
         "dtick": 1,
         "matches": "x",
         "title": {
          "text": "Month"
         }
        },
        "xaxis3": {
         "anchor": "y3",
         "domain": [
          0.6799999999999999,
          0.9999999999999999
         ],
         "dtick": 1,
         "matches": "x",
         "title": {
          "text": "Month"
         }
        },
        "yaxis": {
         "anchor": "x",
         "domain": [
          0,
          1
         ],
         "gridcolor": "lightgrey",
         "linecolor": "black",
         "mirror": true,
         "showline": true,
         "title": {
          "text": ""
         },
         "visible": false
        },
        "yaxis2": {
         "anchor": "x2",
         "domain": [
          0,
          1
         ],
         "gridcolor": "lightgrey",
         "linecolor": "black",
         "mirror": true,
         "showline": true,
         "showticklabels": false,
         "title": {
          "text": ""
         },
         "visible": false
        },
        "yaxis3": {
         "anchor": "x3",
         "domain": [
          0,
          1
         ],
         "gridcolor": "lightgrey",
         "linecolor": "black",
         "mirror": true,
         "showline": true,
         "showticklabels": false,
         "title": {
          "text": ""
         },
         "visible": false
        }
       }
      }
     },
     "metadata": {},
     "output_type": "display_data"
    }
   ],
   "source": [
    "df_baggage['Year-Month'] = df_baggage['Year'].astype(str) + '-' + df_baggage['Month'].astype(str)\n",
    "\n",
    "fig = px.line(df_baggage, y=\"Baggage\", x='Month', color=\"Airline\", facet_col=\"Airline\", \n",
    "              line_group=\"Year\", color_discrete_sequence=px.colors.qualitative.Pastel)\n",
    "\n",
    "fig.update_layout(plot_bgcolor='white')\n",
    "\n",
    "fig.update_yaxes(\n",
    "    mirror=True,\n",
    "    ticks=None,\n",
    "    showline=True,\n",
    "    linecolor='black',\n",
    "    gridcolor='lightgrey',\n",
    "    title='',\n",
    "    matches=None,\n",
    "    visible=False\n",
    ")\n",
    "\n",
    "fig.update_xaxes(\n",
    "    dtick=1\n",
    ")\n",
    "\n",
    "fig.show()\n"
   ]
  },
  {
   "cell_type": "markdown",
   "metadata": {},
   "source": [
    "By focusing separately on the 3 airlines, we better observe the time series data of the Hawaiian airline. Nevertheless, the fluctuations are importants and it is still difficult to detect a pattern over time. The above graph shows the data repartition over the months for each airline company and for each year (a single curve = a year). Again, it is difficult to detect a pattern but still it seems easier to detect some for the United Airline. Indeed, we can distinguish a drop in the number of baggage complaints followed by a small increase, a small drop followed by a large increase, and this happens a second time every year.  \n",
    "\n",
    "We will further explore this in the next cells by studying the Buys-Ballot table and by applying a fisher test."
   ]
  },
  {
   "cell_type": "markdown",
   "metadata": {},
   "source": [
    "### **2-2: Buys-Ballot table**"
   ]
  },
  {
   "cell_type": "markdown",
   "metadata": {},
   "source": [
    "The Buys-Ballot table is a statistical method that is used to determine if a time series is seasonal. We will use it to detect the seasonal variations in our dataset. In a first time, we will explore the buys ballot with periods corresponding to months."
   ]
  },
  {
   "cell_type": "code",
   "execution_count": 40,
   "metadata": {},
   "outputs": [],
   "source": [
    "airlines = df_baggage['Airline'].unique()\n",
    "\n",
    "BBT_Hawaiian = pd.DataFrame()\n",
    "BBT_Eagle = pd.DataFrame()\n",
    "BBT_United = pd.DataFrame()\n",
    "\n",
    "for airline in airlines:\n",
    "    df_airline = df_baggage[df_baggage['Airline'] == airline]\n",
    "\n",
    "    # Create a Buys-Ballot table\n",
    "    buys_ballot_table = pd.pivot_table(df_airline, values='Baggage', index='Year', columns='Month', aggfunc='sum')\n",
    "\n",
    "    # columns for mean and std for each month\n",
    "    buys_ballot_table['Mean'] = buys_ballot_table.mean(axis=1)\n",
    "    buys_ballot_table['Std'] = buys_ballot_table.std(axis=1)\n",
    "\n",
    "    # rows for mean and std for each month\n",
    "    buys_ballot_table.loc['Mean'] = buys_ballot_table.mean(axis=0)\n",
    "    buys_ballot_table.loc['Std'] = buys_ballot_table.std(axis=0)\n",
    "\n",
    "    # Assign the Buys-Ballot table to the corresponding airline DataFrame\n",
    "    if airline == 'Hawaiian':\n",
    "        BBT_Hawaiian = buys_ballot_table\n",
    "    elif airline == 'American Eagle':\n",
    "        BBT_Eagle = buys_ballot_table\n",
    "    elif airline == 'United':\n",
    "        BBT_United = buys_ballot_table"
   ]
  },
  {
   "cell_type": "code",
   "execution_count": 41,
   "metadata": {},
   "outputs": [
    {
     "name": "stdout",
     "output_type": "stream",
     "text": [
      "Buys-Ballot table of the United airline:\n"
     ]
    },
    {
     "data": {
      "text/html": [
       "<div>\n",
       "<style scoped>\n",
       "    .dataframe tbody tr th:only-of-type {\n",
       "        vertical-align: middle;\n",
       "    }\n",
       "\n",
       "    .dataframe tbody tr th {\n",
       "        vertical-align: top;\n",
       "    }\n",
       "\n",
       "    .dataframe thead th {\n",
       "        text-align: right;\n",
       "    }\n",
       "</style>\n",
       "<table border=\"1\" class=\"dataframe\">\n",
       "  <thead>\n",
       "    <tr style=\"text-align: right;\">\n",
       "      <th>Month</th>\n",
       "      <th>1</th>\n",
       "      <th>2</th>\n",
       "      <th>3</th>\n",
       "      <th>4</th>\n",
       "      <th>5</th>\n",
       "      <th>6</th>\n",
       "      <th>7</th>\n",
       "      <th>8</th>\n",
       "      <th>9</th>\n",
       "      <th>10</th>\n",
       "      <th>11</th>\n",
       "      <th>12</th>\n",
       "      <th>Mean</th>\n",
       "      <th>Std</th>\n",
       "    </tr>\n",
       "    <tr>\n",
       "      <th>Year</th>\n",
       "      <th></th>\n",
       "      <th></th>\n",
       "      <th></th>\n",
       "      <th></th>\n",
       "      <th></th>\n",
       "      <th></th>\n",
       "      <th></th>\n",
       "      <th></th>\n",
       "      <th></th>\n",
       "      <th></th>\n",
       "      <th></th>\n",
       "      <th></th>\n",
       "      <th></th>\n",
       "      <th></th>\n",
       "    </tr>\n",
       "  </thead>\n",
       "  <tbody>\n",
       "    <tr>\n",
       "      <th>2004</th>\n",
       "      <td>25015.000000</td>\n",
       "      <td>16660.000000</td>\n",
       "      <td>19318.000000</td>\n",
       "      <td>15638.000000</td>\n",
       "      <td>19302.000000</td>\n",
       "      <td>21892.000000</td>\n",
       "      <td>26666.000000</td>\n",
       "      <td>25510.000000</td>\n",
       "      <td>13305.000000</td>\n",
       "      <td>17736.000000</td>\n",
       "      <td>15812.000000</td>\n",
       "      <td>32458.000000</td>\n",
       "      <td>20776.000000</td>\n",
       "      <td>5401.575650</td>\n",
       "    </tr>\n",
       "    <tr>\n",
       "      <th>2005</th>\n",
       "      <td>25861.000000</td>\n",
       "      <td>18647.000000</td>\n",
       "      <td>22264.000000</td>\n",
       "      <td>14262.000000</td>\n",
       "      <td>19977.000000</td>\n",
       "      <td>28024.000000</td>\n",
       "      <td>23513.000000</td>\n",
       "      <td>21000.000000</td>\n",
       "      <td>14138.000000</td>\n",
       "      <td>16628.000000</td>\n",
       "      <td>15254.000000</td>\n",
       "      <td>29235.000000</td>\n",
       "      <td>20733.583333</td>\n",
       "      <td>4992.026800</td>\n",
       "    </tr>\n",
       "    <tr>\n",
       "      <th>2006</th>\n",
       "      <td>23232.000000</td>\n",
       "      <td>18551.000000</td>\n",
       "      <td>22246.000000</td>\n",
       "      <td>18019.000000</td>\n",
       "      <td>19996.000000</td>\n",
       "      <td>27588.000000</td>\n",
       "      <td>30325.000000</td>\n",
       "      <td>39123.000000</td>\n",
       "      <td>37039.000000</td>\n",
       "      <td>35640.000000</td>\n",
       "      <td>28896.000000</td>\n",
       "      <td>40483.000000</td>\n",
       "      <td>28428.166667</td>\n",
       "      <td>7813.493252</td>\n",
       "    </tr>\n",
       "    <tr>\n",
       "      <th>2007</th>\n",
       "      <td>41787.000000</td>\n",
       "      <td>34581.000000</td>\n",
       "      <td>33920.000000</td>\n",
       "      <td>25667.000000</td>\n",
       "      <td>25524.000000</td>\n",
       "      <td>31242.000000</td>\n",
       "      <td>30356.000000</td>\n",
       "      <td>29331.000000</td>\n",
       "      <td>18033.000000</td>\n",
       "      <td>20147.000000</td>\n",
       "      <td>16927.000000</td>\n",
       "      <td>33269.000000</td>\n",
       "      <td>28398.666667</td>\n",
       "      <td>7114.075383</td>\n",
       "    </tr>\n",
       "    <tr>\n",
       "      <th>2008</th>\n",
       "      <td>26113.000000</td>\n",
       "      <td>22059.000000</td>\n",
       "      <td>23932.000000</td>\n",
       "      <td>22994.000000</td>\n",
       "      <td>23217.000000</td>\n",
       "      <td>29690.000000</td>\n",
       "      <td>26604.000000</td>\n",
       "      <td>32827.000000</td>\n",
       "      <td>17551.000000</td>\n",
       "      <td>15429.000000</td>\n",
       "      <td>13138.000000</td>\n",
       "      <td>29803.000000</td>\n",
       "      <td>23613.083333</td>\n",
       "      <td>5714.367017</td>\n",
       "    </tr>\n",
       "    <tr>\n",
       "      <th>2009</th>\n",
       "      <td>19653.000000</td>\n",
       "      <td>12627.000000</td>\n",
       "      <td>16285.000000</td>\n",
       "      <td>13517.000000</td>\n",
       "      <td>15083.000000</td>\n",
       "      <td>22844.000000</td>\n",
       "      <td>19259.000000</td>\n",
       "      <td>18646.000000</td>\n",
       "      <td>11270.000000</td>\n",
       "      <td>14513.000000</td>\n",
       "      <td>9814.000000</td>\n",
       "      <td>22845.000000</td>\n",
       "      <td>16363.000000</td>\n",
       "      <td>4127.096800</td>\n",
       "    </tr>\n",
       "    <tr>\n",
       "      <th>2010</th>\n",
       "      <td>17307.000000</td>\n",
       "      <td>13269.000000</td>\n",
       "      <td>14782.000000</td>\n",
       "      <td>11121.000000</td>\n",
       "      <td>11947.000000</td>\n",
       "      <td>15784.000000</td>\n",
       "      <td>14309.000000</td>\n",
       "      <td>14099.000000</td>\n",
       "      <td>9435.000000</td>\n",
       "      <td>9565.000000</td>\n",
       "      <td>8597.000000</td>\n",
       "      <td>14415.000000</td>\n",
       "      <td>12885.833333</td>\n",
       "      <td>2627.581234</td>\n",
       "    </tr>\n",
       "    <tr>\n",
       "      <th>Mean</th>\n",
       "      <td>25566.857143</td>\n",
       "      <td>19484.857143</td>\n",
       "      <td>21821.000000</td>\n",
       "      <td>17316.857143</td>\n",
       "      <td>19292.285714</td>\n",
       "      <td>25294.857143</td>\n",
       "      <td>24433.142857</td>\n",
       "      <td>25790.857143</td>\n",
       "      <td>17253.000000</td>\n",
       "      <td>18522.571429</td>\n",
       "      <td>15491.142857</td>\n",
       "      <td>28929.714286</td>\n",
       "      <td>21599.761905</td>\n",
       "      <td>5398.602305</td>\n",
       "    </tr>\n",
       "    <tr>\n",
       "      <th>Std</th>\n",
       "      <td>7294.154968</td>\n",
       "      <td>6863.367945</td>\n",
       "      <td>5827.016169</td>\n",
       "      <td>4890.604912</td>\n",
       "      <td>4257.314637</td>\n",
       "      <td>5006.211211</td>\n",
       "      <td>5472.126446</td>\n",
       "      <td>8022.874893</td>\n",
       "      <td>8572.300425</td>\n",
       "      <td>7613.316883</td>\n",
       "      <td>6178.389814</td>\n",
       "      <td>7684.056940</td>\n",
       "      <td>5367.770968</td>\n",
       "      <td>1618.414128</td>\n",
       "    </tr>\n",
       "  </tbody>\n",
       "</table>\n",
       "</div>"
      ],
      "text/plain": [
       "Month             1             2             3             4             5  \\\n",
       "Year                                                                          \n",
       "2004   25015.000000  16660.000000  19318.000000  15638.000000  19302.000000   \n",
       "2005   25861.000000  18647.000000  22264.000000  14262.000000  19977.000000   \n",
       "2006   23232.000000  18551.000000  22246.000000  18019.000000  19996.000000   \n",
       "2007   41787.000000  34581.000000  33920.000000  25667.000000  25524.000000   \n",
       "2008   26113.000000  22059.000000  23932.000000  22994.000000  23217.000000   \n",
       "2009   19653.000000  12627.000000  16285.000000  13517.000000  15083.000000   \n",
       "2010   17307.000000  13269.000000  14782.000000  11121.000000  11947.000000   \n",
       "Mean   25566.857143  19484.857143  21821.000000  17316.857143  19292.285714   \n",
       "Std     7294.154968   6863.367945   5827.016169   4890.604912   4257.314637   \n",
       "\n",
       "Month             6             7             8             9            10  \\\n",
       "Year                                                                          \n",
       "2004   21892.000000  26666.000000  25510.000000  13305.000000  17736.000000   \n",
       "2005   28024.000000  23513.000000  21000.000000  14138.000000  16628.000000   \n",
       "2006   27588.000000  30325.000000  39123.000000  37039.000000  35640.000000   \n",
       "2007   31242.000000  30356.000000  29331.000000  18033.000000  20147.000000   \n",
       "2008   29690.000000  26604.000000  32827.000000  17551.000000  15429.000000   \n",
       "2009   22844.000000  19259.000000  18646.000000  11270.000000  14513.000000   \n",
       "2010   15784.000000  14309.000000  14099.000000   9435.000000   9565.000000   \n",
       "Mean   25294.857143  24433.142857  25790.857143  17253.000000  18522.571429   \n",
       "Std     5006.211211   5472.126446   8022.874893   8572.300425   7613.316883   \n",
       "\n",
       "Month            11            12          Mean          Std  \n",
       "Year                                                          \n",
       "2004   15812.000000  32458.000000  20776.000000  5401.575650  \n",
       "2005   15254.000000  29235.000000  20733.583333  4992.026800  \n",
       "2006   28896.000000  40483.000000  28428.166667  7813.493252  \n",
       "2007   16927.000000  33269.000000  28398.666667  7114.075383  \n",
       "2008   13138.000000  29803.000000  23613.083333  5714.367017  \n",
       "2009    9814.000000  22845.000000  16363.000000  4127.096800  \n",
       "2010    8597.000000  14415.000000  12885.833333  2627.581234  \n",
       "Mean   15491.142857  28929.714286  21599.761905  5398.602305  \n",
       "Std     6178.389814   7684.056940   5367.770968  1618.414128  "
      ]
     },
     "metadata": {},
     "output_type": "display_data"
    }
   ],
   "source": [
    "print(\"Buys-Ballot table of the United airline:\")\n",
    "display(BBT_United)\n"
   ]
  },
  {
   "cell_type": "code",
   "execution_count": 42,
   "metadata": {},
   "outputs": [
    {
     "name": "stdout",
     "output_type": "stream",
     "text": [
      "Buys-Ballot table of the American Eagle airline:\n"
     ]
    },
    {
     "data": {
      "text/html": [
       "<div>\n",
       "<style scoped>\n",
       "    .dataframe tbody tr th:only-of-type {\n",
       "        vertical-align: middle;\n",
       "    }\n",
       "\n",
       "    .dataframe tbody tr th {\n",
       "        vertical-align: top;\n",
       "    }\n",
       "\n",
       "    .dataframe thead th {\n",
       "        text-align: right;\n",
       "    }\n",
       "</style>\n",
       "<table border=\"1\" class=\"dataframe\">\n",
       "  <thead>\n",
       "    <tr style=\"text-align: right;\">\n",
       "      <th>Month</th>\n",
       "      <th>1</th>\n",
       "      <th>2</th>\n",
       "      <th>3</th>\n",
       "      <th>4</th>\n",
       "      <th>5</th>\n",
       "      <th>6</th>\n",
       "      <th>7</th>\n",
       "      <th>8</th>\n",
       "      <th>9</th>\n",
       "      <th>10</th>\n",
       "      <th>11</th>\n",
       "      <th>12</th>\n",
       "      <th>Mean</th>\n",
       "      <th>Std</th>\n",
       "    </tr>\n",
       "    <tr>\n",
       "      <th>Year</th>\n",
       "      <th></th>\n",
       "      <th></th>\n",
       "      <th></th>\n",
       "      <th></th>\n",
       "      <th></th>\n",
       "      <th></th>\n",
       "      <th></th>\n",
       "      <th></th>\n",
       "      <th></th>\n",
       "      <th></th>\n",
       "      <th></th>\n",
       "      <th></th>\n",
       "      <th></th>\n",
       "      <th></th>\n",
       "    </tr>\n",
       "  </thead>\n",
       "  <tbody>\n",
       "    <tr>\n",
       "      <th>2004</th>\n",
       "      <td>12502.000000</td>\n",
       "      <td>8977.000000</td>\n",
       "      <td>10289.000000</td>\n",
       "      <td>8095.000000</td>\n",
       "      <td>10618.000000</td>\n",
       "      <td>13684.000000</td>\n",
       "      <td>14121.000000</td>\n",
       "      <td>12732.000000</td>\n",
       "      <td>7895.000000</td>\n",
       "      <td>9444.000000</td>\n",
       "      <td>9582.000000</td>\n",
       "      <td>17555.000000</td>\n",
       "      <td>11291.166667</td>\n",
       "      <td>2759.935049</td>\n",
       "    </tr>\n",
       "    <tr>\n",
       "      <th>2005</th>\n",
       "      <td>15361.000000</td>\n",
       "      <td>9561.000000</td>\n",
       "      <td>13002.000000</td>\n",
       "      <td>11071.000000</td>\n",
       "      <td>12300.000000</td>\n",
       "      <td>16373.000000</td>\n",
       "      <td>19701.000000</td>\n",
       "      <td>16666.000000</td>\n",
       "      <td>12636.000000</td>\n",
       "      <td>14258.000000</td>\n",
       "      <td>14440.000000</td>\n",
       "      <td>24696.000000</td>\n",
       "      <td>15005.416667</td>\n",
       "      <td>3912.127479</td>\n",
       "    </tr>\n",
       "    <tr>\n",
       "      <th>2006</th>\n",
       "      <td>19255.000000</td>\n",
       "      <td>17319.000000</td>\n",
       "      <td>20344.000000</td>\n",
       "      <td>19726.000000</td>\n",
       "      <td>21248.000000</td>\n",
       "      <td>22767.000000</td>\n",
       "      <td>23184.000000</td>\n",
       "      <td>27630.000000</td>\n",
       "      <td>25922.000000</td>\n",
       "      <td>24699.000000</td>\n",
       "      <td>18954.000000</td>\n",
       "      <td>28556.000000</td>\n",
       "      <td>22467.000000</td>\n",
       "      <td>3463.158674</td>\n",
       "    </tr>\n",
       "    <tr>\n",
       "      <th>2007</th>\n",
       "      <td>24190.000000</td>\n",
       "      <td>20753.000000</td>\n",
       "      <td>21928.000000</td>\n",
       "      <td>19483.000000</td>\n",
       "      <td>19209.000000</td>\n",
       "      <td>26213.000000</td>\n",
       "      <td>24993.000000</td>\n",
       "      <td>23156.000000</td>\n",
       "      <td>14816.000000</td>\n",
       "      <td>15351.000000</td>\n",
       "      <td>13946.000000</td>\n",
       "      <td>23762.000000</td>\n",
       "      <td>20650.000000</td>\n",
       "      <td>3983.775784</td>\n",
       "    </tr>\n",
       "    <tr>\n",
       "      <th>2008</th>\n",
       "      <td>17507.000000</td>\n",
       "      <td>15795.000000</td>\n",
       "      <td>17782.000000</td>\n",
       "      <td>14566.000000</td>\n",
       "      <td>13522.000000</td>\n",
       "      <td>15620.000000</td>\n",
       "      <td>12885.000000</td>\n",
       "      <td>12148.000000</td>\n",
       "      <td>8729.000000</td>\n",
       "      <td>9110.000000</td>\n",
       "      <td>7591.000000</td>\n",
       "      <td>15475.000000</td>\n",
       "      <td>13394.166667</td>\n",
       "      <td>3268.702669</td>\n",
       "    </tr>\n",
       "    <tr>\n",
       "      <th>2009</th>\n",
       "      <td>10231.000000</td>\n",
       "      <td>7538.000000</td>\n",
       "      <td>10093.000000</td>\n",
       "      <td>10547.000000</td>\n",
       "      <td>10279.000000</td>\n",
       "      <td>13220.000000</td>\n",
       "      <td>11625.000000</td>\n",
       "      <td>10832.000000</td>\n",
       "      <td>7052.000000</td>\n",
       "      <td>10000.000000</td>\n",
       "      <td>7081.000000</td>\n",
       "      <td>12496.000000</td>\n",
       "      <td>10082.833333</td>\n",
       "      <td>1905.271146</td>\n",
       "    </tr>\n",
       "    <tr>\n",
       "      <th>2010</th>\n",
       "      <td>11059.000000</td>\n",
       "      <td>8973.000000</td>\n",
       "      <td>9762.000000</td>\n",
       "      <td>7864.000000</td>\n",
       "      <td>9399.000000</td>\n",
       "      <td>10431.000000</td>\n",
       "      <td>9840.000000</td>\n",
       "      <td>9583.000000</td>\n",
       "      <td>8324.000000</td>\n",
       "      <td>8498.000000</td>\n",
       "      <td>8067.000000</td>\n",
       "      <td>11526.000000</td>\n",
       "      <td>9443.833333</td>\n",
       "      <td>1116.545628</td>\n",
       "    </tr>\n",
       "    <tr>\n",
       "      <th>Mean</th>\n",
       "      <td>15729.285714</td>\n",
       "      <td>12702.285714</td>\n",
       "      <td>14742.857143</td>\n",
       "      <td>13050.285714</td>\n",
       "      <td>13796.428571</td>\n",
       "      <td>16901.142857</td>\n",
       "      <td>16621.285714</td>\n",
       "      <td>16106.714286</td>\n",
       "      <td>12196.285714</td>\n",
       "      <td>13051.428571</td>\n",
       "      <td>11380.142857</td>\n",
       "      <td>19152.285714</td>\n",
       "      <td>14619.202381</td>\n",
       "      <td>2915.645204</td>\n",
       "    </tr>\n",
       "    <tr>\n",
       "      <th>Std</th>\n",
       "      <td>4625.524487</td>\n",
       "      <td>4781.150212</td>\n",
       "      <td>4803.763478</td>\n",
       "      <td>4627.229832</td>\n",
       "      <td>4291.994969</td>\n",
       "      <td>5193.440848</td>\n",
       "      <td>5526.551824</td>\n",
       "      <td>6327.185308</td>\n",
       "      <td>6180.994897</td>\n",
       "      <td>5358.612450</td>\n",
       "      <td>4146.601480</td>\n",
       "      <td>6082.201216</td>\n",
       "      <td>4751.649819</td>\n",
       "      <td>988.517007</td>\n",
       "    </tr>\n",
       "  </tbody>\n",
       "</table>\n",
       "</div>"
      ],
      "text/plain": [
       "Month             1             2             3             4             5  \\\n",
       "Year                                                                          \n",
       "2004   12502.000000   8977.000000  10289.000000   8095.000000  10618.000000   \n",
       "2005   15361.000000   9561.000000  13002.000000  11071.000000  12300.000000   \n",
       "2006   19255.000000  17319.000000  20344.000000  19726.000000  21248.000000   \n",
       "2007   24190.000000  20753.000000  21928.000000  19483.000000  19209.000000   \n",
       "2008   17507.000000  15795.000000  17782.000000  14566.000000  13522.000000   \n",
       "2009   10231.000000   7538.000000  10093.000000  10547.000000  10279.000000   \n",
       "2010   11059.000000   8973.000000   9762.000000   7864.000000   9399.000000   \n",
       "Mean   15729.285714  12702.285714  14742.857143  13050.285714  13796.428571   \n",
       "Std     4625.524487   4781.150212   4803.763478   4627.229832   4291.994969   \n",
       "\n",
       "Month             6             7             8             9            10  \\\n",
       "Year                                                                          \n",
       "2004   13684.000000  14121.000000  12732.000000   7895.000000   9444.000000   \n",
       "2005   16373.000000  19701.000000  16666.000000  12636.000000  14258.000000   \n",
       "2006   22767.000000  23184.000000  27630.000000  25922.000000  24699.000000   \n",
       "2007   26213.000000  24993.000000  23156.000000  14816.000000  15351.000000   \n",
       "2008   15620.000000  12885.000000  12148.000000   8729.000000   9110.000000   \n",
       "2009   13220.000000  11625.000000  10832.000000   7052.000000  10000.000000   \n",
       "2010   10431.000000   9840.000000   9583.000000   8324.000000   8498.000000   \n",
       "Mean   16901.142857  16621.285714  16106.714286  12196.285714  13051.428571   \n",
       "Std     5193.440848   5526.551824   6327.185308   6180.994897   5358.612450   \n",
       "\n",
       "Month            11            12          Mean          Std  \n",
       "Year                                                          \n",
       "2004    9582.000000  17555.000000  11291.166667  2759.935049  \n",
       "2005   14440.000000  24696.000000  15005.416667  3912.127479  \n",
       "2006   18954.000000  28556.000000  22467.000000  3463.158674  \n",
       "2007   13946.000000  23762.000000  20650.000000  3983.775784  \n",
       "2008    7591.000000  15475.000000  13394.166667  3268.702669  \n",
       "2009    7081.000000  12496.000000  10082.833333  1905.271146  \n",
       "2010    8067.000000  11526.000000   9443.833333  1116.545628  \n",
       "Mean   11380.142857  19152.285714  14619.202381  2915.645204  \n",
       "Std     4146.601480   6082.201216   4751.649819   988.517007  "
      ]
     },
     "metadata": {},
     "output_type": "display_data"
    }
   ],
   "source": [
    "print(\"Buys-Ballot table of the American Eagle airline:\")\n",
    "display(BBT_Eagle)"
   ]
  },
  {
   "cell_type": "code",
   "execution_count": 43,
   "metadata": {},
   "outputs": [
    {
     "name": "stdout",
     "output_type": "stream",
     "text": [
      "Buys-Ballot table of the Hawaiian airline:\n"
     ]
    },
    {
     "data": {
      "text/html": [
       "<div>\n",
       "<style scoped>\n",
       "    .dataframe tbody tr th:only-of-type {\n",
       "        vertical-align: middle;\n",
       "    }\n",
       "\n",
       "    .dataframe tbody tr th {\n",
       "        vertical-align: top;\n",
       "    }\n",
       "\n",
       "    .dataframe thead th {\n",
       "        text-align: right;\n",
       "    }\n",
       "</style>\n",
       "<table border=\"1\" class=\"dataframe\">\n",
       "  <thead>\n",
       "    <tr style=\"text-align: right;\">\n",
       "      <th>Month</th>\n",
       "      <th>1</th>\n",
       "      <th>2</th>\n",
       "      <th>3</th>\n",
       "      <th>4</th>\n",
       "      <th>5</th>\n",
       "      <th>6</th>\n",
       "      <th>7</th>\n",
       "      <th>8</th>\n",
       "      <th>9</th>\n",
       "      <th>10</th>\n",
       "      <th>11</th>\n",
       "      <th>12</th>\n",
       "      <th>Mean</th>\n",
       "      <th>Std</th>\n",
       "    </tr>\n",
       "    <tr>\n",
       "      <th>Year</th>\n",
       "      <th></th>\n",
       "      <th></th>\n",
       "      <th></th>\n",
       "      <th></th>\n",
       "      <th></th>\n",
       "      <th></th>\n",
       "      <th></th>\n",
       "      <th></th>\n",
       "      <th></th>\n",
       "      <th></th>\n",
       "      <th></th>\n",
       "      <th></th>\n",
       "      <th></th>\n",
       "      <th></th>\n",
       "    </tr>\n",
       "  </thead>\n",
       "  <tbody>\n",
       "    <tr>\n",
       "      <th>2004</th>\n",
       "      <td>1717.000000</td>\n",
       "      <td>1599.000000</td>\n",
       "      <td>1327.000000</td>\n",
       "      <td>1350.000000</td>\n",
       "      <td>1304.000000</td>\n",
       "      <td>1697.000000</td>\n",
       "      <td>1398.000000</td>\n",
       "      <td>1259.000000</td>\n",
       "      <td>1033.000000</td>\n",
       "      <td>1176.000000</td>\n",
       "      <td>1084.000000</td>\n",
       "      <td>1146.000000</td>\n",
       "      <td>1340.833333</td>\n",
       "      <td>218.414298</td>\n",
       "    </tr>\n",
       "    <tr>\n",
       "      <th>2005</th>\n",
       "      <td>1206.000000</td>\n",
       "      <td>1154.000000</td>\n",
       "      <td>1541.000000</td>\n",
       "      <td>1348.000000</td>\n",
       "      <td>1408.000000</td>\n",
       "      <td>1625.000000</td>\n",
       "      <td>1906.000000</td>\n",
       "      <td>1726.000000</td>\n",
       "      <td>1236.000000</td>\n",
       "      <td>1443.000000</td>\n",
       "      <td>1286.000000</td>\n",
       "      <td>1629.000000</td>\n",
       "      <td>1459.000000</td>\n",
       "      <td>221.010558</td>\n",
       "    </tr>\n",
       "    <tr>\n",
       "      <th>2006</th>\n",
       "      <td>1461.000000</td>\n",
       "      <td>1388.000000</td>\n",
       "      <td>2049.000000</td>\n",
       "      <td>1522.000000</td>\n",
       "      <td>1305.000000</td>\n",
       "      <td>1411.000000</td>\n",
       "      <td>1530.000000</td>\n",
       "      <td>1733.000000</td>\n",
       "      <td>1421.000000</td>\n",
       "      <td>1757.000000</td>\n",
       "      <td>1790.000000</td>\n",
       "      <td>2252.000000</td>\n",
       "      <td>1634.916667</td>\n",
       "      <td>276.970052</td>\n",
       "    </tr>\n",
       "    <tr>\n",
       "      <th>2007</th>\n",
       "      <td>2046.000000</td>\n",
       "      <td>1922.000000</td>\n",
       "      <td>2331.000000</td>\n",
       "      <td>1583.000000</td>\n",
       "      <td>1601.000000</td>\n",
       "      <td>2163.000000</td>\n",
       "      <td>2529.000000</td>\n",
       "      <td>2013.000000</td>\n",
       "      <td>2064.000000</td>\n",
       "      <td>2069.000000</td>\n",
       "      <td>2086.000000</td>\n",
       "      <td>1962.000000</td>\n",
       "      <td>2030.750000</td>\n",
       "      <td>252.286254</td>\n",
       "    </tr>\n",
       "    <tr>\n",
       "      <th>2008</th>\n",
       "      <td>1795.000000</td>\n",
       "      <td>1273.000000</td>\n",
       "      <td>1511.000000</td>\n",
       "      <td>2449.000000</td>\n",
       "      <td>2696.000000</td>\n",
       "      <td>2618.000000</td>\n",
       "      <td>2791.000000</td>\n",
       "      <td>2121.000000</td>\n",
       "      <td>1428.000000</td>\n",
       "      <td>1556.000000</td>\n",
       "      <td>1532.000000</td>\n",
       "      <td>1803.000000</td>\n",
       "      <td>1964.416667</td>\n",
       "      <td>523.203029</td>\n",
       "    </tr>\n",
       "    <tr>\n",
       "      <th>2009</th>\n",
       "      <td>1303.000000</td>\n",
       "      <td>1389.000000</td>\n",
       "      <td>1323.000000</td>\n",
       "      <td>1300.000000</td>\n",
       "      <td>1251.000000</td>\n",
       "      <td>1381.000000</td>\n",
       "      <td>1573.000000</td>\n",
       "      <td>1604.000000</td>\n",
       "      <td>1313.000000</td>\n",
       "      <td>1319.000000</td>\n",
       "      <td>1140.000000</td>\n",
       "      <td>1179.000000</td>\n",
       "      <td>1339.583333</td>\n",
       "      <td>131.128092</td>\n",
       "    </tr>\n",
       "    <tr>\n",
       "      <th>2010</th>\n",
       "      <td>1326.000000</td>\n",
       "      <td>1200.000000</td>\n",
       "      <td>1180.000000</td>\n",
       "      <td>1076.000000</td>\n",
       "      <td>1264.000000</td>\n",
       "      <td>1360.000000</td>\n",
       "      <td>1386.000000</td>\n",
       "      <td>1283.000000</td>\n",
       "      <td>1912.000000</td>\n",
       "      <td>2265.000000</td>\n",
       "      <td>2020.000000</td>\n",
       "      <td>2705.000000</td>\n",
       "      <td>1581.416667</td>\n",
       "      <td>494.611204</td>\n",
       "    </tr>\n",
       "    <tr>\n",
       "      <th>Mean</th>\n",
       "      <td>1550.571429</td>\n",
       "      <td>1417.857143</td>\n",
       "      <td>1608.857143</td>\n",
       "      <td>1518.285714</td>\n",
       "      <td>1547.000000</td>\n",
       "      <td>1750.714286</td>\n",
       "      <td>1873.285714</td>\n",
       "      <td>1677.000000</td>\n",
       "      <td>1486.714286</td>\n",
       "      <td>1655.000000</td>\n",
       "      <td>1562.571429</td>\n",
       "      <td>1810.857143</td>\n",
       "      <td>1621.559524</td>\n",
       "      <td>302.517641</td>\n",
       "    </tr>\n",
       "    <tr>\n",
       "      <th>Std</th>\n",
       "      <td>285.699571</td>\n",
       "      <td>246.913188</td>\n",
       "      <td>391.785812</td>\n",
       "      <td>409.008108</td>\n",
       "      <td>482.220459</td>\n",
       "      <td>438.439673</td>\n",
       "      <td>527.066197</td>\n",
       "      <td>304.925752</td>\n",
       "      <td>342.424847</td>\n",
       "      <td>368.584551</td>\n",
       "      <td>381.718991</td>\n",
       "      <td>519.801453</td>\n",
       "      <td>259.538352</td>\n",
       "      <td>137.253157</td>\n",
       "    </tr>\n",
       "  </tbody>\n",
       "</table>\n",
       "</div>"
      ],
      "text/plain": [
       "Month            1            2            3            4            5  \\\n",
       "Year                                                                     \n",
       "2004   1717.000000  1599.000000  1327.000000  1350.000000  1304.000000   \n",
       "2005   1206.000000  1154.000000  1541.000000  1348.000000  1408.000000   \n",
       "2006   1461.000000  1388.000000  2049.000000  1522.000000  1305.000000   \n",
       "2007   2046.000000  1922.000000  2331.000000  1583.000000  1601.000000   \n",
       "2008   1795.000000  1273.000000  1511.000000  2449.000000  2696.000000   \n",
       "2009   1303.000000  1389.000000  1323.000000  1300.000000  1251.000000   \n",
       "2010   1326.000000  1200.000000  1180.000000  1076.000000  1264.000000   \n",
       "Mean   1550.571429  1417.857143  1608.857143  1518.285714  1547.000000   \n",
       "Std     285.699571   246.913188   391.785812   409.008108   482.220459   \n",
       "\n",
       "Month            6            7            8            9           10  \\\n",
       "Year                                                                     \n",
       "2004   1697.000000  1398.000000  1259.000000  1033.000000  1176.000000   \n",
       "2005   1625.000000  1906.000000  1726.000000  1236.000000  1443.000000   \n",
       "2006   1411.000000  1530.000000  1733.000000  1421.000000  1757.000000   \n",
       "2007   2163.000000  2529.000000  2013.000000  2064.000000  2069.000000   \n",
       "2008   2618.000000  2791.000000  2121.000000  1428.000000  1556.000000   \n",
       "2009   1381.000000  1573.000000  1604.000000  1313.000000  1319.000000   \n",
       "2010   1360.000000  1386.000000  1283.000000  1912.000000  2265.000000   \n",
       "Mean   1750.714286  1873.285714  1677.000000  1486.714286  1655.000000   \n",
       "Std     438.439673   527.066197   304.925752   342.424847   368.584551   \n",
       "\n",
       "Month           11           12         Mean         Std  \n",
       "Year                                                      \n",
       "2004   1084.000000  1146.000000  1340.833333  218.414298  \n",
       "2005   1286.000000  1629.000000  1459.000000  221.010558  \n",
       "2006   1790.000000  2252.000000  1634.916667  276.970052  \n",
       "2007   2086.000000  1962.000000  2030.750000  252.286254  \n",
       "2008   1532.000000  1803.000000  1964.416667  523.203029  \n",
       "2009   1140.000000  1179.000000  1339.583333  131.128092  \n",
       "2010   2020.000000  2705.000000  1581.416667  494.611204  \n",
       "Mean   1562.571429  1810.857143  1621.559524  302.517641  \n",
       "Std     381.718991   519.801453   259.538352  137.253157  "
      ]
     },
     "metadata": {},
     "output_type": "display_data"
    }
   ],
   "source": [
    "print(\"Buys-Ballot table of the Hawaiian airline:\")\n",
    "display(BBT_Hawaiian)"
   ]
  },
  {
   "cell_type": "markdown",
   "metadata": {},
   "source": [
    "-> The mean column represent the average periodic value of the time series.  \n",
    "-> The mean row represent the average number of baggage complaints for each months across all years.  \n",
    "-> The \"Std\" row and column indicate the standard deviation, which measures the amount of variation or dispersion from the mean.  \n",
    "\n",
    "We can see that 2 patterns recur throughout the year. Indeed, the number of baggage complaints seems to be high in January, then drops in February before rising a little in March and then dropping again in April. Then, between April-June or April-July, the number of baggage complaints increases before reaching a peak. The same pattern is repeated over the other half of the year (a lot of complaints, then less, then a little more, then a little less, then a lot). This could make sense, as the peaks in baggage complaints seem to be during the summer or at the end of the year, which could also correspond to the periods when airlines have the most passengers.  \n",
    "\n",
    "In this way, the Buys Ballot table with monthly periods reveals intriguing insights into the seasonality of baggage complaints. Across the months, distinct patterns emerge, showcasing a regular ebb and flow in the number of complaints. Notably, there is a conspicuous surge in baggage complaints during January, followed by a decline in February, a modest rise in March, and another dip in April. This cyclic behavior repeats in both halves of the year, forming a distinctive seasonal rhythm. Moreover, the data suggests that specific periods, potentially corresponding to summer or year-end travel peaks, experience higher concentrations of baggage complaints. The standard deviation values accentuate the variability in certain months, emphasizing the unpredictability and fluctuation in baggage complaint numbers during these periods. "
   ]
  },
  {
   "cell_type": "markdown",
   "metadata": {},
   "source": [
    "### **2-3: fisher test**"
   ]
  },
  {
   "cell_type": "markdown",
   "metadata": {},
   "source": [
    "Now, we will conduct a fisher test in order to determine whether the data have an influence on the seasonality or not."
   ]
  },
  {
   "cell_type": "code",
   "execution_count": 44,
   "metadata": {},
   "outputs": [
    {
     "name": "stdout",
     "output_type": "stream",
     "text": [
      "Hawaiian Airlines - Fisher Test:\n",
      "Fisher Test Statistic: 0.9477323293646116\n",
      "P-value: 0.49593950530465497\n",
      "Fail to reject the null hypothesis: Seasonality is not significant.\n",
      "\n",
      "American Eagle Airlines - Fisher Test:\n",
      "Fisher Test Statistic: 0.9821871262642465\n",
      "P-value: 0.5281630359476059\n",
      "Fail to reject the null hypothesis: Seasonality is not significant.\n",
      "\n",
      "United Airlines - Fisher Test:\n",
      "Fisher Test Statistic: 0.9591401576509307\n",
      "P-value: 0.5067112195222129\n",
      "Fail to reject the null hypothesis: Seasonality is not significant.\n",
      "\n"
     ]
    }
   ],
   "source": [
    "def fisher_test(buys_ballot_table):\n",
    "    # Extract the standard deviation values for each month\n",
    "    std_values = buys_ballot_table.loc['Std'][:-1].values\n",
    "\n",
    "    # Calculate the mean standard deviation\n",
    "    mean_std = std_values.mean()\n",
    "\n",
    "    # Calculate the Fisher test statistic\n",
    "    f_statistic = (mean_std**2) / (std_values**2).mean()\n",
    "\n",
    "    # Calculate the p-value for the Fisher test\n",
    "    p_value = stats.f.cdf(f_statistic, len(std_values)-1, len(std_values)*(len(buys_ballot_table)-2))\n",
    "\n",
    "    return f_statistic, p_value\n",
    "\n",
    "# Perform Fisher test for each airline\n",
    "f_statistic_hawaiian, p_value_hawaiian = fisher_test(BBT_Hawaiian)\n",
    "f_statistic_eagle, p_value_eagle = fisher_test(BBT_Eagle)\n",
    "f_statistic_united, p_value_united = fisher_test(BBT_United)\n",
    "\n",
    "alpha = 0.05\n",
    "\n",
    "# Print the results\n",
    "print(\"Hawaiian Airlines - Fisher Test:\")\n",
    "print(f\"Fisher Test Statistic: {f_statistic_hawaiian}\")\n",
    "print(f\"P-value: {p_value_hawaiian}\")\n",
    "if p_value_hawaiian < alpha:\n",
    "    print(\"Reject the null hypothesis: Seasonality is present.\")\n",
    "else:\n",
    "    print(\"Fail to reject the null hypothesis: Seasonality is not significant.\\n\")\n",
    "\n",
    "print(\"American Eagle Airlines - Fisher Test:\")\n",
    "print(f\"Fisher Test Statistic: {f_statistic_eagle}\")\n",
    "print(f\"P-value: {p_value_eagle}\")\n",
    "if p_value_eagle < alpha:\n",
    "    print(\"Reject the null hypothesis: Seasonality is present.\")\n",
    "else:\n",
    "    print(\"Fail to reject the null hypothesis: Seasonality is not significant.\\n\")\n",
    "\n",
    "print(\"United Airlines - Fisher Test:\")\n",
    "print(f\"Fisher Test Statistic: {f_statistic_united}\")\n",
    "print(f\"P-value: {p_value_united}\")\n",
    "if p_value_united < alpha:\n",
    "    print(\"Reject the null hypothesis: Seasonality is present.\")\n",
    "else:\n",
    "    print(\"Fail to reject the null hypothesis: Seasonality is not significant.\\n\")\n",
    "\n",
    "\n"
   ]
  },
  {
   "cell_type": "markdown",
   "metadata": {},
   "source": [
    "As we conduct a fisher test, our hypothesis are the following:\n",
    "- H0: no association between the seasonality and the data, data don't influence the seasonality\n",
    "- H1: there is an association between the seasonality and the data, data influence the seasonality  \n",
    "\n",
    "Based on the results of Fisher's test, we can deduce that the time series given has no influence on seasonality. In other words, based on the Fisher tests, there is no strong indication enoought that the variability across seasons is significantly different. The fisher test shows that the data does not show a consistent and statistically significant pattern that repeats across seasons."
   ]
  },
  {
   "cell_type": "markdown",
   "metadata": {},
   "source": [
    "## <u>**3- Trend:**</u>"
   ]
  },
  {
   "cell_type": "markdown",
   "metadata": {},
   "source": [
    "The idea now is to visualize the trend of our data. Firstly, we will analyze the \"raw\" data with linear regression method then we will apply a rolling window in order to smooth the data."
   ]
  },
  {
   "cell_type": "markdown",
   "metadata": {},
   "source": [
    "### 6 Years period - All Buys Ballot table "
   ]
  },
  {
   "cell_type": "markdown",
   "metadata": {},
   "source": [
    "***Without rolling window***"
   ]
  },
  {
   "cell_type": "code",
   "execution_count": 45,
   "metadata": {},
   "outputs": [
    {
     "data": {
      "image/png": "[encoded data removed]",
      "text/plain": [
       "<Figure size 1584x432 with 1 Axes>"
      ]
     },
     "metadata": {
      "needs_background": "light"
     },
     "output_type": "display_data"
    }
   ],
   "source": [
    "tables = [BBT_United, BBT_Eagle, BBT_Hawaiian]\n",
    "colors = ['b', 'g', 'm']  \n",
    "labels = ['BBT_United', 'BBT_Eagle', 'BBT_Hawaiian']  \n",
    "\n",
    "plt.figure(figsize=(22, 6))\n",
    "\n",
    "for df, color, label in zip(tables, colors, labels):\n",
    "    years = pd.to_numeric(df.index[:-2], errors='coerce')  \n",
    "    mean_values = df['Mean'][:-2].values\n",
    "\n",
    "    # Original data\n",
    "    plt.plot(years, mean_values, marker='o', linestyle='-', color=color, label=f'{label} Mean Values')\n",
    "\n",
    "    # Perform linear regression\n",
    "    coefficients = np.polyfit(years, mean_values, 1)\n",
    "    polynomial = np.poly1d(coefficients)\n",
    "    regression_line = polynomial(years)\n",
    "\n",
    "    # Regression line plot\n",
    "    plt.plot(years, regression_line, linestyle='--', color=color, label=f'{label} Linear Regression')\n",
    "\n",
    "plt.title('Linear Regression over years for each Airline')\n",
    "plt.xlabel('Year')\n",
    "plt.ylabel('Mean Value')\n",
    "plt.legend()\n",
    "plt.grid(True)\n",
    "plt.show()"
   ]
  },
  {
   "cell_type": "markdown",
   "metadata": {},
   "source": [
    "***With rolling window*** "
   ]
  },
  {
   "cell_type": "code",
   "execution_count": 46,
   "metadata": {},
   "outputs": [
    {
     "data": {
      "image/png": "[encoded data removed]",
      "text/plain": [
       "<Figure size 1584x432 with 1 Axes>"
      ]
     },
     "metadata": {
      "needs_background": "light"
     },
     "output_type": "display_data"
    }
   ],
   "source": [
    "# Group by Airline and create separate DataFrames\n",
    "grouped_airlines = df_baggage.groupby('Airline')\n",
    "\n",
    "airline_dfs = {}\n",
    "for airline, group in grouped_airlines:\n",
    "    airline_dfs[airline] = group[['Date', 'Baggage']]\n",
    "\n",
    "for airline, df in airline_dfs.items():\n",
    "    df.set_index('Date', inplace=True)\n",
    "\n",
    "plt.figure(figsize=(22, 6))\n",
    "\n",
    "colors = {'American Eagle': 'green', 'Hawaiian': 'm', 'United': 'blue'}\n",
    "\n",
    "for airline, df in airline_dfs.items():\n",
    "    moving_avg = df['Baggage'].rolling(window=40, center=True).mean()\n",
    "    moving_avg.plot(label=f'{airline} Moving Avg', color=colors[airline])\n",
    "\n",
    "plt.legend()\n",
    "plt.title('Baggage Moving Averages for Different Airlines')\n",
    "plt.xlabel('Date')\n",
    "plt.ylabel('Moving Average')\n",
    "plt.show()"
   ]
  },
  {
   "cell_type": "markdown",
   "metadata": {},
   "source": [
    "The conclusion that can be drawn is that there is a general trend in the \"raw\" data of United and American Eagle airlines, as the number of abandoned baggage complaints seems to be decreasing (although it did increase between 2004/2005 and 2007). "
   ]
  },
  {
   "cell_type": "markdown",
   "metadata": {},
   "source": [
    "## <u>**4- Additive or Multiplicative model:**</u>"
   ]
  },
  {
   "cell_type": "markdown",
   "metadata": {},
   "source": [
    "In this part, we will study the correlation between the mean and the standard deviation of our data.  \n",
    "If theses two are not correlated, then our model is additive. Moreover, if the variability of the time series remains relatively constant across different levels of the mean, it suggests an additive relationship.  \n",
    "Otherwise, if the variability of the time series increases or decreases with the level of the mean, it suggests a multiplicative relationship."
   ]
  },
  {
   "cell_type": "code",
   "execution_count": 47,
   "metadata": {},
   "outputs": [
    {
     "name": "stdout",
     "output_type": "stream",
     "text": [
      "0.8434205427475312\n",
      "0.9842893442057311\n",
      "0.5775387596547747\n"
     ]
    }
   ],
   "source": [
    "airlines = [BBT_Eagle, BBT_United, BBT_Hawaiian]\n",
    "\n",
    "for airline in airlines:\n",
    "    correlation = airline[\"Std\"].corr(airline[\"Mean\"])\n",
    "    print(correlation)"
   ]
  },
  {
   "cell_type": "markdown",
   "metadata": {},
   "source": [
    "The correlation factor is near to 1 for the the American Eagles and United Airlines, it indicates that the model seems multiplicative with the following form : **𝑋𝑡 = 𝑇𝑡 ∗ 𝑆𝑡 ∗ 𝑅𝑡**.  "
   ]
  },
  {
   "cell_type": "code",
   "execution_count": 51,
   "metadata": {},
   "outputs": [
    {
     "name": "stdout",
     "output_type": "stream",
     "text": [
      "MSE for American Eagle: 7721446.788387347\n",
      "MSE for United: 25542732.576919366\n"
     ]
    },
    {
     "data": {
      "image/png": "[encoded data removed]",
      "text/plain": [
       "<Figure size 864x576 with 2 Axes>"
      ]
     },
     "metadata": {
      "needs_background": "light"
     },
     "output_type": "display_data"
    }
   ],
   "source": [
    "# Decompose the time series for American Eagle\n",
    "result_ae2 = seasonal_decompose(df_baggage[df_baggage['Airline'] == 'American Eagle']['Baggage'], model='multiplicative', period=12)\n",
    "trend_ae2 = result_ae2.trend.dropna()\n",
    "\n",
    "# Decompose the time series for United\n",
    "result_united2 = seasonal_decompose(df_baggage[df_baggage['Airline'] == 'United']['Baggage'], model='multiplicative', period=12)\n",
    "trend_united2 = result_united2.trend.dropna()\n",
    "\n",
    "# Calculate MSE for American Eagle\n",
    "mse_ae2 = ((df_baggage[df_baggage['Airline'] == 'American Eagle']['Baggage'].loc[trend_ae2.index] - trend_ae2) ** 2).mean()\n",
    "\n",
    "# Calculate MSE for United\n",
    "mse_united2 = ((df_baggage[df_baggage['Airline'] == 'United']['Baggage'].loc[trend_united2.index] - trend_united2) ** 2).mean()\n",
    "\n",
    "print(\"MSE for American Eagle:\", mse_ae2)\n",
    "print(\"MSE for United:\", mse_united2)\n",
    "\n",
    "plt.figure(figsize=(12, 8))\n",
    "\n",
    "plt.subplot(2, 1, 1)\n",
    "plt.title('Seasonal Decomposition - American Eagle')\n",
    "result_ae2.trend.plot(label='Trend')\n",
    "result_ae2.seasonal.plot(label='Seasonal')\n",
    "result_ae2.resid.plot(label='Residual')\n",
    "plt.legend()\n",
    "\n",
    "plt.subplot(2, 1, 2)\n",
    "plt.title('Seasonal Decomposition - United')\n",
    "result_united2.trend.plot(label='Trend')\n",
    "result_united2.seasonal.plot(label='Seasonal')\n",
    "result_united2.resid.plot(label='Residual')\n",
    "plt.legend()\n",
    "\n",
    "plt.tight_layout()\n",
    "plt.show()\n"
   ]
  },
  {
   "cell_type": "markdown",
   "metadata": {},
   "source": [
    "Despite our conclusions on the non-significant seasonality and the multiplicative model, if we compute and plot the result of an additive model with the seasonal_decompose method, there is a seasonality.  \n",
    "However, we saw that there is a correlation between the mean and the standard deviation in our data.  \n",
    "Here is the result with the additive model : "
   ]
  },
  {
   "cell_type": "code",
   "execution_count": 52,
   "metadata": {},
   "outputs": [
    {
     "name": "stdout",
     "output_type": "stream",
     "text": [
      "MSE for American Eagle: 7721446.788387347\n",
      "MSE for United: 25542732.576919366\n"
     ]
    },
    {
     "data": {
      "image/png": "[encoded data removed]",
      "text/plain": [
       "<Figure size 864x576 with 2 Axes>"
      ]
     },
     "metadata": {
      "needs_background": "light"
     },
     "output_type": "display_data"
    }
   ],
   "source": [
    "# Decompose the time series for American Eagle\n",
    "result_ae2 = seasonal_decompose(df_baggage[df_baggage['Airline'] == 'American Eagle']['Baggage'], model='additive', period=12)\n",
    "trend_ae2 = result_ae2.trend.dropna()\n",
    "\n",
    "# Decompose the time series for United\n",
    "result_united2 = seasonal_decompose(df_baggage[df_baggage['Airline'] == 'United']['Baggage'], model='additive', period=12)\n",
    "trend_united2 = result_united2.trend.dropna()\n",
    "\n",
    "# Calculate MSE for American Eagle\n",
    "mse_ae2 = ((df_baggage[df_baggage['Airline'] == 'American Eagle']['Baggage'].loc[trend_ae2.index] - trend_ae2) ** 2).mean()\n",
    "\n",
    "# Calculate MSE for United\n",
    "mse_united2 = ((df_baggage[df_baggage['Airline'] == 'United']['Baggage'].loc[trend_united2.index] - trend_united2) ** 2).mean()\n",
    "\n",
    "print(\"MSE for American Eagle:\", mse_ae2)\n",
    "print(\"MSE for United:\", mse_united2)\n",
    "\n",
    "plt.figure(figsize=(12, 8))\n",
    "\n",
    "plt.subplot(2, 1, 1)\n",
    "plt.title('Seasonal Decomposition - American Eagle')\n",
    "result_ae2.trend.plot(label='Trend')\n",
    "result_ae2.seasonal.plot(label='Seasonal')\n",
    "result_ae2.resid.plot(label='Residual')\n",
    "plt.legend()\n",
    "\n",
    "plt.subplot(2, 1, 2)\n",
    "plt.title('Seasonal Decomposition - United')\n",
    "result_united2.trend.plot(label='Trend')\n",
    "result_united2.seasonal.plot(label='Seasonal')\n",
    "result_united2.resid.plot(label='Residual')\n",
    "plt.legend()\n",
    "\n",
    "plt.tight_layout()\n",
    "plt.show()\n"
   ]
  },
  {
   "cell_type": "markdown",
   "metadata": {},
   "source": [
    "# <u>5- Forecast: </u>"
   ]
  },
  {
   "cell_type": "markdown",
   "metadata": {},
   "source": [
    "Finally, let's predict some values for the future. We will use the ARIMA model. The ARIMA model (AutoRegressive and Integrated Moving Average Models) combines 3 models in one: Autoregression models, Autoregressive models and Moving Average models. It allows the model to caputure the key components of the of a time serie including seasonality, trend and noise. \n",
    "\n",
    "Thus, theARIMA modele requires 3 parameters:\n",
    "- **p (Autoregressive Order):** This parameter represents the number of autoregressive (AR) terms. It indicates the number of lag observations included in the model. A higher value of p means the model will consider more past observations.  \n",
    "- **d (Integrated Order):** This parameter represents the number of differences needed to make the time series stationary. It refers to the number of times the raw observations are differenced to achieve stationarity. If d is 1, it means the first-order differences are used.  \n",
    "- **q (Moving Average Order):** This parameter represents the number of moving average (MA) terms. It indicates the size of the moving average window, or in other words, the number of lagged forecast errors in the prediction equation. A higher value of q means the model will consider more past forecast errors.  \n",
    "\n",
    "Auto ARIMA is an automated version of the ARIMA model, which is used for time series forecasting. It is designed to automatically select the best combination of parameters (p, d, q) for the ARIMA model, based on the data provided. Let's use it:"
   ]
  },
  {
   "cell_type": "code",
   "execution_count": 49,
   "metadata": {},
   "outputs": [],
   "source": [
    "dfae = airline_dfs['American Eagle']\n",
    "dfu = airline_dfs['United']\n",
    "dfh = airline_dfs['Hawaiian']"
   ]
  },
  {
   "cell_type": "code",
   "execution_count": 50,
   "metadata": {},
   "outputs": [
    {
     "name": "stdout",
     "output_type": "stream",
     "text": [
      "\n",
      "American Eagle Model Summary:\n",
      "                                     SARIMAX Results                                      \n",
      "==========================================================================================\n",
      "Dep. Variable:                                  y   No. Observations:                   84\n",
      "Model:             SARIMAX(3, 1, 0)x(2, 0, 0, 12)   Log Likelihood                -766.491\n",
      "Date:                            Wed, 27 Dec 2023   AIC                           1544.983\n",
      "Time:                                    22:47:41   BIC                           1559.496\n",
      "Sample:                                01-01-2004   HQIC                          1550.813\n",
      "                                     - 12-01-2010                                         \n",
      "Covariance Type:                              opg                                         \n",
      "==============================================================================\n",
      "                 coef    std err          z      P>|z|      [0.025      0.975]\n",
      "------------------------------------------------------------------------------\n",
      "ar.L1         -0.1922      0.093     -2.071      0.038      -0.374      -0.010\n",
      "ar.L2         -0.2420      0.098     -2.460      0.014      -0.435      -0.049\n",
      "ar.L3         -0.2693      0.100     -2.680      0.007      -0.466      -0.072\n",
      "ar.S.L12       0.4614      0.067      6.851      0.000       0.329       0.593\n",
      "ar.S.L24       0.2111      0.092      2.292      0.022       0.031       0.392\n",
      "sigma2      5.504e+06   8.74e+05      6.296      0.000    3.79e+06    7.22e+06\n",
      "===================================================================================\n",
      "Ljung-Box (L1) (Q):                   0.54   Jarque-Bera (JB):                 3.22\n",
      "Prob(Q):                              0.46   Prob(JB):                         0.20\n",
      "Heteroskedasticity (H):               0.16   Skew:                             0.11\n",
      "Prob(H) (two-sided):                  0.00   Kurtosis:                         3.94\n",
      "===================================================================================\n",
      "\n",
      "Warnings:\n",
      "[1] Covariance matrix calculated using the outer product of gradients (complex-step).\n",
      "\n",
      "American Eagle Forecast:\n",
      "                Forecast     Lower_CI      Upper_CI\n",
      "2011-01-01   9933.146583  5334.908615  14531.384552\n",
      "2011-02-01   8205.348544  2294.399377  14116.297711\n",
      "2011-03-01   9293.312935  2764.833235  15821.792635\n",
      "2011-04-01   8477.733411  1670.383424  15285.083399\n",
      "2011-05-01   9144.645381  1873.011994  16416.278768\n",
      "2011-06-01  10197.715108  2371.447318  18023.982898\n",
      "2011-07-01   9602.667792  1254.994954  17950.340630\n",
      "2011-08-01   9320.466795   561.870610  18079.062980\n",
      "2011-09-01   7949.182579 -1189.062757  17087.427916\n",
      "2011-10-01   8645.547997  -875.779569  18166.875564\n",
      "2011-11-01   7828.790139 -2078.832746  17736.413025\n",
      "2011-12-01  10567.813344   292.882636  20842.744053\n"
     ]
    },
    {
     "data": {
      "image/png": "[encoded data removed]",
      "text/plain": [
       "<Figure size 720x432 with 1 Axes>"
      ]
     },
     "metadata": {
      "needs_background": "light"
     },
     "output_type": "display_data"
    },
    {
     "name": "stdout",
     "output_type": "stream",
     "text": [
      "\n",
      "United Model Summary:\n",
      "                                     SARIMAX Results                                      \n",
      "==========================================================================================\n",
      "Dep. Variable:                                  y   No. Observations:                   84\n",
      "Model:             SARIMAX(0, 1, 1)x(1, 0, 1, 12)   Log Likelihood                -818.853\n",
      "Date:                            Wed, 27 Dec 2023   AIC                           1645.706\n",
      "Time:                                    22:47:51   BIC                           1655.381\n",
      "Sample:                                01-01-2004   HQIC                          1649.593\n",
      "                                     - 12-01-2010                                         \n",
      "Covariance Type:                              opg                                         \n",
      "==============================================================================\n",
      "                 coef    std err          z      P>|z|      [0.025      0.975]\n",
      "------------------------------------------------------------------------------\n",
      "ma.L1         -0.2653      0.095     -2.786      0.005      -0.452      -0.079\n",
      "ar.S.L12       0.9185      0.068     13.486      0.000       0.785       1.052\n",
      "ma.S.L12      -0.6507      0.144     -4.525      0.000      -0.933      -0.369\n",
      "sigma2      1.976e+07   5.38e-09   3.67e+15      0.000    1.98e+07    1.98e+07\n",
      "===================================================================================\n",
      "Ljung-Box (L1) (Q):                   0.49   Jarque-Bera (JB):                14.10\n",
      "Prob(Q):                              0.49   Prob(JB):                         0.00\n",
      "Heteroskedasticity (H):               0.33   Skew:                             0.40\n",
      "Prob(H) (two-sided):                  0.01   Kurtosis:                         4.85\n",
      "===================================================================================\n",
      "\n",
      "Warnings:\n",
      "[1] Covariance matrix calculated using the outer product of gradients (complex-step).\n",
      "[2] Covariance matrix is singular or near-singular, with condition number 8.15e+31. Standard errors may be unstable.\n",
      "\n",
      "United Forecast:\n",
      "                Forecast      Lower_CI      Upper_CI\n",
      "2011-01-01  11717.630037   3002.858481  20432.401593\n",
      "2011-02-01   7630.907250  -3183.047156  18444.861657\n",
      "2011-03-01   9246.985935  -3320.272180  21814.244050\n",
      "2011-04-01   6417.928369  -7686.338473  20522.195211\n",
      "2011-05-01   7350.055307  -8139.447906  22839.558520\n",
      "2011-06-01  11690.038146  -5070.602546  28450.678839\n",
      "2011-07-01  10356.121751  -7585.824717  28298.068218\n",
      "2011-08-01  11158.970241  -7891.169120  30209.109602\n",
      "2011-09-01   5274.452103 -14822.865537  25371.769742\n",
      "2011-10-01   5944.289006 -15148.281794  27036.859805\n",
      "2011-11-01   3894.390241 -18148.543084  25937.323566\n",
      "2011-12-01  12376.173832 -10578.197518  35330.545183\n"
     ]
    },
    {
     "data": {
      "image/png": "[encoded data removed]",
      "text/plain": [
       "<Figure size 720x432 with 1 Axes>"
      ]
     },
     "metadata": {
      "needs_background": "light"
     },
     "output_type": "display_data"
    },
    {
     "name": "stdout",
     "output_type": "stream",
     "text": [
      "\n",
      "Hawaiian Model Summary:\n",
      "                               SARIMAX Results                                \n",
      "==============================================================================\n",
      "Dep. Variable:                      y   No. Observations:                   84\n",
      "Model:               SARIMAX(1, 0, 0)   Log Likelihood                -596.230\n",
      "Date:                Wed, 27 Dec 2023   AIC                           1198.460\n",
      "Time:                        22:47:52   BIC                           1205.752\n",
      "Sample:                    01-01-2004   HQIC                          1201.391\n",
      "                         - 12-01-2010                                         \n",
      "Covariance Type:                  opg                                         \n",
      "==============================================================================\n",
      "                 coef    std err          z      P>|z|      [0.025      0.975]\n",
      "------------------------------------------------------------------------------\n",
      "intercept    408.6858    155.960      2.620      0.009     103.009     714.362\n",
      "ar.L1          0.7534      0.083      9.078      0.000       0.591       0.916\n",
      "sigma2       8.58e+04   1.34e+04      6.387      0.000    5.95e+04    1.12e+05\n",
      "===================================================================================\n",
      "Ljung-Box (L1) (Q):                   0.02   Jarque-Bera (JB):                 6.47\n",
      "Prob(Q):                              0.89   Prob(JB):                         0.04\n",
      "Heteroskedasticity (H):               1.23   Skew:                             0.63\n",
      "Prob(H) (two-sided):                  0.58   Kurtosis:                         3.53\n",
      "===================================================================================\n",
      "\n",
      "Warnings:\n",
      "[1] Covariance matrix calculated using the outer product of gradients (complex-step).\n",
      "\n",
      "Hawaiian Forecast:\n",
      "               Forecast     Lower_CI     Upper_CI\n",
      "2011-01-01  2446.717669  1872.611297  3020.824042\n",
      "2011-02-01  2252.119655  1533.302972  2970.936337\n",
      "2011-03-01  2105.503402  1316.259463  2894.747341\n",
      "2011-04-01  1995.038115  1168.481262  2821.594969\n",
      "2011-05-01  1911.810101  1064.803301  2758.816901\n",
      "2011-06-01  1849.103503   990.704855  2707.502150\n",
      "2011-07-01  1801.858383   937.059820  2666.656946\n",
      "2011-08-01  1766.262427   897.851881  2634.672974\n",
      "2011-09-01  1739.443316   868.989065  2609.897568\n",
      "2011-10-01  1719.236957   847.624710  2590.849204\n",
      "2011-11-01  1704.012851   831.743942  2576.281760\n",
      "2011-12-01  1692.542532   819.901083  2565.183982\n"
     ]
    },
    {
     "data": {
      "image/png": "[encoded data removed]",
      "text/plain": [
       "<Figure size 720x432 with 1 Axes>"
      ]
     },
     "metadata": {
      "needs_background": "light"
     },
     "output_type": "display_data"
    }
   ],
   "source": [
    "for airline, df in {'American Eagle': dfae, 'United': dfu, 'Hawaiian': dfh}.items():\n",
    "    df.index = pd.to_datetime(df.index)\n",
    "\n",
    "    y = df['Baggage']\n",
    "\n",
    "    # AutoARIMA to automatically find the best ARIMA model\n",
    "    model = auto_arima(y, seasonal=True, m=12)\n",
    "    \n",
    "    model.fit(y)\n",
    "\n",
    "    # Model summary\n",
    "    print(f\"\\n{airline} Model Summary:\")\n",
    "    print(model.summary())\n",
    "\n",
    "    # Forecast for the next 'n_periods' periods\n",
    "    n_periods = 12 \n",
    "    forecast, conf_int = model.predict(n_periods=n_periods, return_conf_int=True)\n",
    "\n",
    "    # DataFrame for the forecast results\n",
    "    forecast_index = pd.date_range(start=y.index[-1] + pd.DateOffset(1), periods=n_periods, freq='MS')\n",
    "    forecast_df = pd.DataFrame({'Forecast': forecast, 'Lower_CI': conf_int[:, 0], 'Upper_CI': conf_int[:, 1]}, index=forecast_index)\n",
    "    \n",
    "    print(f\"\\n{airline} Forecast:\")\n",
    "    print(forecast_df)\n",
    "\n",
    "    # Plot \n",
    "    plt.figure(figsize=(10, 6))\n",
    "    plt.plot(y, label='Historical Data')\n",
    "    plt.plot(forecast_df['Forecast'], label='Forecast', linestyle='dashed', color='orange')\n",
    "    plt.fill_between(forecast_df.index, forecast_df['Lower_CI'], forecast_df['Upper_CI'], color='orange', alpha=0.2, label='Confidence Interval')\n",
    "    plt.title(f'{airline} Baggage Forecast')\n",
    "    plt.xlabel('Date')\n",
    "    plt.ylabel('Baggage')\n",
    "    plt.legend()\n",
    "    plt.show()\n"
   ]
  },
  {
   "cell_type": "markdown",
   "metadata": {},
   "source": [
    "We can observe that we have large confidence intervals in the ARIMA forecasts which is indicative of uncertainty or variability in the predictions. It can make sense since earlier we observed a high variability on our data and difficulty to recognise regular patterns. ARIMA models assume that future observations will follow similar patterns as historical ones, but as the underlying process is highly variable, predictions become less precise."
   ]
  }
 ],
 "metadata": {
  "kernelspec": {
   "display_name": "Python 3",
   "language": "python",
   "name": "python3"
  },
  "language_info": {
   "codemirror_mode": {
    "name": "ipython",
    "version": 3
   },
   "file_extension": ".py",
   "mimetype": "text/x-python",
   "name": "python",
   "nbconvert_exporter": "python",
   "pygments_lexer": "ipython3",
   "version": "3.11.6"
  }
 },
 "nbformat": 4,
 "nbformat_minor": 2
}
